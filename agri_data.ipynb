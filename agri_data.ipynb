{
  "nbformat": 4,
  "nbformat_minor": 0,
  "metadata": {
    "colab": {
      "name": "modeling.ipynb",
      "provenance": [],
      "toc_visible": true,
      "include_colab_link": true
    },
    "kernelspec": {
      "display_name": "Python 3",
      "language": "python",
      "name": "python3"
    },
    "language_info": {
      "codemirror_mode": {
        "name": "ipython",
        "version": 3
      },
      "file_extension": ".py",
      "mimetype": "text/x-python",
      "name": "python",
      "nbconvert_exporter": "python",
      "pygments_lexer": "ipython3",
      "version": "3.7.4"
    }
  },
  "cells": [
    {
      "cell_type": "markdown",
      "metadata": {
        "id": "view-in-github",
        "colab_type": "text"
      },
      "source": [
        "<a href=\"https://colab.research.google.com/github/mkri/master/blob/master/agri_data.ipynb\" target=\"_parent\"><img src=\"https://colab.research.google.com/assets/colab-badge.svg\" alt=\"Open In Colab\"/></a>"
      ]
    },
    {
      "cell_type": "markdown",
      "metadata": {
        "id": "1b6Akcf-carM"
      },
      "source": [
        "# Building FastAi Model"
      ]
    },
    {
      "cell_type": "code",
      "metadata": {
        "id": "VoodwCcjcarT"
      },
      "source": [
        "#Printing thw working directory\n",
        "import os\n",
        "wd = os.getcwd()"
      ],
      "execution_count": 1,
      "outputs": []
    },
    {
      "cell_type": "code",
      "metadata": {
        "colab": {
          "base_uri": "https://localhost:8080/",
          "height": 35
        },
        "id": "dNOMLJdOcarU",
        "outputId": "a0a57408-1959-4f70-8c80-0e8c324d1054"
      },
      "source": [
        "wd"
      ],
      "execution_count": 2,
      "outputs": [
        {
          "output_type": "execute_result",
          "data": {
            "application/vnd.google.colaboratory.intrinsic+json": {
              "type": "string"
            },
            "text/plain": [
              "'/content'"
            ]
          },
          "metadata": {
            "tags": []
          },
          "execution_count": 2
        }
      ]
    },
    {
      "cell_type": "code",
      "metadata": {
        "id": "JKx52wNHcarV"
      },
      "source": [
        "# Setting The Home Directory for the project\n",
        "home_dir = wd[:-7]"
      ],
      "execution_count": 3,
      "outputs": []
    },
    {
      "cell_type": "code",
      "metadata": {
        "colab": {
          "base_uri": "https://localhost:8080/",
          "height": 35
        },
        "id": "fCs9L7rkcarV",
        "outputId": "41fe63f4-acb8-460e-b362-85776288c86c"
      },
      "source": [
        "home_dir"
      ],
      "execution_count": 4,
      "outputs": [
        {
          "output_type": "execute_result",
          "data": {
            "application/vnd.google.colaboratory.intrinsic+json": {
              "type": "string"
            },
            "text/plain": [
              "'/'"
            ]
          },
          "metadata": {
            "tags": []
          },
          "execution_count": 4
        }
      ]
    },
    {
      "cell_type": "code",
      "metadata": {
        "colab": {
          "base_uri": "https://localhost:8080/"
        },
        "id": "YJfKELakcarW",
        "outputId": "5c31c95b-43a4-4794-f0b4-da5a8bc96635"
      },
      "source": [
        "#Listing the home directory and working directory contents\n",
        "print('HOME DIRECTORY')\n",
        "print(os.listdir(home_dir))\n",
        "print('WORKING DIRECTORY')\n",
        "print(os.listdir(wd))"
      ],
      "execution_count": 34,
      "outputs": [
        {
          "output_type": "stream",
          "text": [
            "HOME DIRECTORY\n",
            "['media', 'proc', 'sbin', 'lib64', 'lib', 'tmp', 'var', 'srv', 'bin', 'opt', 'run', 'mnt', 'root', 'home', 'etc', 'boot', 'dev', 'usr', 'sys', 'content', '.dockerenv', 'datalab', 'tools', 'swift', 'tensorflow-1.15.2', 'lib32']\n",
            "WORKING DIRECTORY\n",
            "['.config', 'datafileYield.csv', 'sample_data']\n"
          ],
          "name": "stdout"
        }
      ]
    },
    {
      "cell_type": "markdown",
      "metadata": {
        "id": "NW-oSIVacarW"
      },
      "source": [
        "## Loading The Datasets"
      ]
    },
    {
      "cell_type": "code",
      "metadata": {
        "id": "y0mIWjyrdrpy"
      },
      "source": [
        "import pandas as pd\n",
        "import numpy as np\n",
        "training_set = pd.read_csv(wd+'/datafileYield.csv')"
      ],
      "execution_count": 70,
      "outputs": []
    },
    {
      "cell_type": "code",
      "metadata": {
        "colab": {
          "base_uri": "https://localhost:8080/",
          "height": 258
        },
        "id": "vSEa6kilqvMF",
        "outputId": "4e3f8efd-e165-4c98-a7e3-59d2a3275044"
      },
      "source": [
        "training_set.head(5)"
      ],
      "execution_count": 71,
      "outputs": [
        {
          "output_type": "execute_result",
          "data": {
            "text/html": [
              "<div>\n",
              "<style scoped>\n",
              "    .dataframe tbody tr th:only-of-type {\n",
              "        vertical-align: middle;\n",
              "    }\n",
              "\n",
              "    .dataframe tbody tr th {\n",
              "        vertical-align: top;\n",
              "    }\n",
              "\n",
              "    .dataframe thead th {\n",
              "        text-align: right;\n",
              "    }\n",
              "</style>\n",
              "<table border=\"1\" class=\"dataframe\">\n",
              "  <thead>\n",
              "    <tr style=\"text-align: right;\">\n",
              "      <th></th>\n",
              "      <th>Crop</th>\n",
              "      <th>Production06-07</th>\n",
              "      <th>Production07-08</th>\n",
              "      <th>Production08-09</th>\n",
              "      <th>Production09-10</th>\n",
              "      <th>Production10-11</th>\n",
              "      <th>Area06-07</th>\n",
              "      <th>Area07-08</th>\n",
              "      <th>Area08-09</th>\n",
              "      <th>Area09-10</th>\n",
              "      <th>Area10-11</th>\n",
              "      <th>Yield06-07</th>\n",
              "      <th>Yield07-08</th>\n",
              "      <th>Yield08-09</th>\n",
              "      <th>Yield09-10</th>\n",
              "      <th>Yield10-11</th>\n",
              "      <th>Location</th>\n",
              "      <th>Price</th>\n",
              "    </tr>\n",
              "  </thead>\n",
              "  <tbody>\n",
              "    <tr>\n",
              "      <th>0</th>\n",
              "      <td>Total Foodgrains</td>\n",
              "      <td>158.8</td>\n",
              "      <td>168.6</td>\n",
              "      <td>171.3</td>\n",
              "      <td>159.4</td>\n",
              "      <td>178.9</td>\n",
              "      <td>128.5</td>\n",
              "      <td>128.8</td>\n",
              "      <td>127.6</td>\n",
              "      <td>126.0</td>\n",
              "      <td>131.7</td>\n",
              "      <td>123.6</td>\n",
              "      <td>130.9</td>\n",
              "      <td>134.3</td>\n",
              "      <td>126.5</td>\n",
              "      <td>135.9</td>\n",
              "      <td>Mumbai</td>\n",
              "      <td>1.75</td>\n",
              "    </tr>\n",
              "    <tr>\n",
              "      <th>1</th>\n",
              "      <td>Rice</td>\n",
              "      <td>200.8</td>\n",
              "      <td>207.9</td>\n",
              "      <td>213.3</td>\n",
              "      <td>191.6</td>\n",
              "      <td>206.4</td>\n",
              "      <td>168.5</td>\n",
              "      <td>168.9</td>\n",
              "      <td>175.1</td>\n",
              "      <td>161.2</td>\n",
              "      <td>164.8</td>\n",
              "      <td>119.2</td>\n",
              "      <td>123.1</td>\n",
              "      <td>121.8</td>\n",
              "      <td>118.9</td>\n",
              "      <td>125.2</td>\n",
              "      <td>Pune</td>\n",
              "      <td>12.50</td>\n",
              "    </tr>\n",
              "    <tr>\n",
              "      <th>2</th>\n",
              "      <td>Wheat</td>\n",
              "      <td>131.6</td>\n",
              "      <td>136.4</td>\n",
              "      <td>140.1</td>\n",
              "      <td>140.3</td>\n",
              "      <td>150.8</td>\n",
              "      <td>115.0</td>\n",
              "      <td>115.2</td>\n",
              "      <td>114.0</td>\n",
              "      <td>116.9</td>\n",
              "      <td>119.5</td>\n",
              "      <td>114.4</td>\n",
              "      <td>118.4</td>\n",
              "      <td>122.8</td>\n",
              "      <td>120.0</td>\n",
              "      <td>126.3</td>\n",
              "      <td>Chennai</td>\n",
              "      <td>4.50</td>\n",
              "    </tr>\n",
              "    <tr>\n",
              "      <th>3</th>\n",
              "      <td>Jowar</td>\n",
              "      <td>124.3</td>\n",
              "      <td>137.8</td>\n",
              "      <td>126.0</td>\n",
              "      <td>116.5</td>\n",
              "      <td>121.8</td>\n",
              "      <td>120.7</td>\n",
              "      <td>110.6</td>\n",
              "      <td>107.3</td>\n",
              "      <td>111.0</td>\n",
              "      <td>105.2</td>\n",
              "      <td>103.0</td>\n",
              "      <td>124.6</td>\n",
              "      <td>117.4</td>\n",
              "      <td>105.0</td>\n",
              "      <td>115.8</td>\n",
              "      <td>Chennai</td>\n",
              "      <td>6.00</td>\n",
              "    </tr>\n",
              "    <tr>\n",
              "      <th>4</th>\n",
              "      <td>Bajra</td>\n",
              "      <td>136.4</td>\n",
              "      <td>161.5</td>\n",
              "      <td>143.9</td>\n",
              "      <td>105.4</td>\n",
              "      <td>167.9</td>\n",
              "      <td>94.5</td>\n",
              "      <td>95.1</td>\n",
              "      <td>87.0</td>\n",
              "      <td>88.5</td>\n",
              "      <td>95.6</td>\n",
              "      <td>144.3</td>\n",
              "      <td>169.7</td>\n",
              "      <td>165.4</td>\n",
              "      <td>119.0</td>\n",
              "      <td>175.8</td>\n",
              "      <td>Coimbatore</td>\n",
              "      <td>17.74</td>\n",
              "    </tr>\n",
              "  </tbody>\n",
              "</table>\n",
              "</div>"
            ],
            "text/plain": [
              "               Crop  Production06-07  ...    Location  Price\n",
              "0  Total Foodgrains            158.8  ...      Mumbai   1.75\n",
              "1              Rice            200.8  ...        Pune  12.50\n",
              "2             Wheat            131.6  ...     Chennai   4.50\n",
              "3             Jowar            124.3  ...     Chennai   6.00\n",
              "4             Bajra            136.4  ...  Coimbatore  17.74\n",
              "\n",
              "[5 rows x 18 columns]"
            ]
          },
          "metadata": {
            "tags": []
          },
          "execution_count": 71
        }
      ]
    },
    {
      "cell_type": "markdown",
      "metadata": {
        "id": "GjXhYWCccarX"
      },
      "source": [
        "## Structuring & Formatting The Datasets"
      ]
    },
    {
      "cell_type": "code",
      "metadata": {
        "id": "HGT8XlW8rtC9"
      },
      "source": [
        "def restructure(data):\n",
        "  \n",
        "  names = list(data.Name)\n",
        "  \n",
        "  brand = []\n",
        "  model = []\n",
        "  \n",
        "  for i in range(len(names)):\n",
        "    try:\n",
        "      brand.append(names[i].split(\" \")[0])\n",
        "      try:\n",
        "        model.append(\" \".join(names[i].split(\" \")[1:]).strip())\n",
        "      except:\n",
        "        pass\n",
        "    except:\n",
        "        print(\"ERR ! - \", names[i], \"@\" , i)\n",
        "        \n",
        "        \n",
        "  mileage = list(data.Mileage)\n",
        "  \n",
        "  for i in range(len(mileage)):\n",
        "    try :\n",
        "      mileage[i] = float(mileage[i].split(\" \")[0].strip())\n",
        "    except:\n",
        "      mileage[i] = np.nan\n",
        "      \n",
        "      \n",
        "  engine = list(data.Engine)\n",
        "  for i in range(len(engine)):\n",
        "    try :\n",
        "      engine[i] = int(engine[i].split(\" \")[0].strip())\n",
        "    except:\n",
        "      engine[i] = np.nan\n",
        "      \n",
        "      \n",
        "  power = list(data.Power)\n",
        "  for i in range(len(power)):\n",
        "    try :\n",
        "      power[i] = float(power[i].split(\" \")[0].strip())\n",
        "    except:\n",
        "      power[i] = np.nan\n",
        "      \n",
        "  data['New_Price'].fillna(0, inplace = True)\n",
        "  \n",
        "  newp = list(data['New_Price'])\n",
        "  \n",
        "  for i in range(len(newp)):\n",
        "    if newp[i] == 0:\n",
        "      newp[i] = float(newp[i])\n",
        "      continue\n",
        "    elif 'Cr' in newp[i]:\n",
        "      newp[i] = float(newp[i].split()[0].strip()) * 100 \n",
        "    elif 'Lakh' in newp[i]:\n",
        "      newp[i] = float(newp[i].split()[0].strip())\n",
        "      \n",
        "      \n",
        "#Re-ordering the columns\n",
        "\n",
        "  restructured = pd.DataFrame({'Brand': brand,\n",
        "                              'Model':model,\n",
        "                              'Location': data['Location'], \n",
        "                              'Year':data['Year'] , \n",
        "                              'Kilometers_Driven':data['Kilometers_Driven'],\n",
        "                              'Fuel_Type':data['Fuel_Type'],\n",
        "                              'Transmission':data['Transmission'],\n",
        "                              'Owner_Type':data['Owner_Type'],\n",
        "                              'Mileage':mileage,\n",
        "                              'Engine':engine,\n",
        "                              'Power':power,\n",
        "                              'Seats':data['Seats'],\n",
        "                              'New_Price':newp\n",
        "                             })\n",
        "\n",
        "  if 'Price' in data.columns:\n",
        "    restructured['Price'] = data['Price']\n",
        "    return restructured\n",
        "\n",
        "  else:\n",
        "    return restructured"
      ],
      "execution_count": null,
      "outputs": []
    },
    {
      "cell_type": "code",
      "metadata": {
        "id": "D2kKU52KAnlm"
      },
      "source": [
        "train_d = restructure(training_set)\n"
      ],
      "execution_count": null,
      "outputs": []
    },
    {
      "cell_type": "markdown",
      "metadata": {
        "id": "71ilUoXycarY"
      },
      "source": [
        "### Selecting Few Features"
      ]
    },
    {
      "cell_type": "code",
      "metadata": {
        "id": "LA9RejMEOMhF"
      },
      "source": [
        "cols = ['Brand', 'Location', 'Year', 'Kilometers_Driven', 'Fuel_Type',\n",
        "       'Transmission', 'Owner_Type', 'Mileage', 'Price']"
      ],
      "execution_count": null,
      "outputs": []
    },
    {
      "cell_type": "code",
      "metadata": {
        "id": "hodnUEY501zS"
      },
      "source": [
        "cols = ['Crop', 'Production06-07', 'Production07-08', 'Production08-09', 'Production09-10','Production10-11',\n",
        "       'Area06-07', 'Area07-08', 'Area08-09', 'Area09-10', 'Area10-11','Yield06-07', 'Yield07-08', 'Yield08-09', 'Yield09-10', 'Yield10-11', 'Location', 'Price']"
      ],
      "execution_count": 72,
      "outputs": []
    },
    {
      "cell_type": "code",
      "metadata": {
        "id": "__7hgfYL1atI"
      },
      "source": [
        "train_d = training_set[cols]"
      ],
      "execution_count": 73,
      "outputs": []
    },
    {
      "cell_type": "code",
      "metadata": {
        "colab": {
          "base_uri": "https://localhost:8080/"
        },
        "id": "b3JX0LY63t8v",
        "outputId": "4f00a547-2a42-46c9-ce46-6feeb72ca957"
      },
      "source": [
        "train_d.info()"
      ],
      "execution_count": 74,
      "outputs": [
        {
          "output_type": "stream",
          "text": [
            "<class 'pandas.core.frame.DataFrame'>\n",
            "RangeIndex: 98 entries, 0 to 97\n",
            "Data columns (total 18 columns):\n",
            " #   Column           Non-Null Count  Dtype  \n",
            "---  ------           --------------  -----  \n",
            " 0   Crop             98 non-null     object \n",
            " 1   Production06-07  98 non-null     float64\n",
            " 2   Production07-08  98 non-null     float64\n",
            " 3   Production08-09  98 non-null     float64\n",
            " 4   Production09-10  98 non-null     float64\n",
            " 5   Production10-11  98 non-null     float64\n",
            " 6   Area06-07        98 non-null     float64\n",
            " 7   Area07-08        98 non-null     float64\n",
            " 8   Area08-09        98 non-null     float64\n",
            " 9   Area09-10        98 non-null     float64\n",
            " 10  Area10-11        98 non-null     float64\n",
            " 11  Yield06-07       98 non-null     float64\n",
            " 12  Yield07-08       98 non-null     float64\n",
            " 13  Yield08-09       98 non-null     float64\n",
            " 14  Yield09-10       98 non-null     float64\n",
            " 15  Yield10-11       98 non-null     float64\n",
            " 16  Location         98 non-null     object \n",
            " 17  Price            98 non-null     float64\n",
            "dtypes: float64(16), object(2)\n",
            "memory usage: 13.9+ KB\n"
          ],
          "name": "stdout"
        }
      ]
    },
    {
      "cell_type": "markdown",
      "metadata": {
        "id": "Jz4R89Lil2vF"
      },
      "source": [
        "## Modeling With Fast.ai\n"
      ]
    },
    {
      "cell_type": "code",
      "metadata": {
        "id": "b1axpAjKl7Oi"
      },
      "source": [
        "from fastai.tabular import *\n",
        "#This path will be used for saving and exporting the model\n",
        "path = wd"
      ],
      "execution_count": 75,
      "outputs": []
    },
    {
      "cell_type": "code",
      "metadata": {
        "id": "tQcQyVVKUc21"
      },
      "source": [
        "#The target variable that we are trying to predict\n",
        "dep_var = 'Price'\n",
        "\n",
        "#The categorical variables \n",
        "cat_names = list(train_d.select_dtypes('object').columns)\n",
        "\n",
        "#The continuous variables\n",
        "cont_names =['Production06-07', 'Area10-11', 'Yield10-11'] #No need to keep the Dependend variable\n",
        "\n",
        "#Preprocessing steps for the fastai learner\n",
        "procs = [FillMissing, Categorify, Normalize]"
      ],
      "execution_count": 76,
      "outputs": []
    },
    {
      "cell_type": "code",
      "metadata": {
        "id": "hetMkktbUcy9"
      },
      "source": [
        "#Creating a validation set\n",
        "val = TabularList.from_df(train_d.iloc[800:1000].copy(), path=path, cat_names=cat_names, cont_names=cont_names)"
      ],
      "execution_count": 77,
      "outputs": []
    },
    {
      "cell_type": "code",
      "metadata": {
        "id": "UoAVDfT5UcqY"
      },
      "source": [
        "#Creating a trainig set\n",
        "data = (TabularList.from_df(train_d, path=path, cat_names=cat_names, cont_names=cont_names, procs=procs)\n",
        "                           .split_by_idx(list(range(len(train_d) - int(len(train_d) * 0.2),len(train_d))))\n",
        "                           .label_from_df(cols=dep_var)\n",
        "                           .add_test(val)\n",
        "                           .databunch())"
      ],
      "execution_count": 78,
      "outputs": []
    },
    {
      "cell_type": "code",
      "metadata": {
        "colab": {
          "base_uri": "https://localhost:8080/",
          "height": 204
        },
        "id": "vDDUdyFdw0Au",
        "outputId": "9c3c2d36-91a1-4b76-f9e8-04320f5600dc"
      },
      "source": [
        "data.show_batch(5)"
      ],
      "execution_count": 79,
      "outputs": [
        {
          "output_type": "display_data",
          "data": {
            "text/html": [
              "<table border=\"1\" class=\"dataframe\">\n",
              "  <thead>\n",
              "    <tr style=\"text-align: right;\">\n",
              "      <th>Crop</th>\n",
              "      <th>Location</th>\n",
              "      <th>Production06-07</th>\n",
              "      <th>Area10-11</th>\n",
              "      <th>Yield10-11</th>\n",
              "      <th>target</th>\n",
              "    </tr>\n",
              "  </thead>\n",
              "  <tbody>\n",
              "    <tr>\n",
              "      <td>Ragi</td>\n",
              "      <td>Jaipur</td>\n",
              "      <td>-0.5900</td>\n",
              "      <td>-1.1759</td>\n",
              "      <td>-0.2348</td>\n",
              "      <td>5.2</td>\n",
              "    </tr>\n",
              "    <tr>\n",
              "      <td>Maize</td>\n",
              "      <td>Hyderabad</td>\n",
              "      <td>0.0964</td>\n",
              "      <td>0.7591</td>\n",
              "      <td>-0.0238</td>\n",
              "      <td>17.5</td>\n",
              "    </tr>\n",
              "    <tr>\n",
              "      <td>Dry chilies</td>\n",
              "      <td>Delhi</td>\n",
              "      <td>-0.0734</td>\n",
              "      <td>-0.7825</td>\n",
              "      <td>0.0638</td>\n",
              "      <td>7.5</td>\n",
              "    </tr>\n",
              "    <tr>\n",
              "      <td>Garlic</td>\n",
              "      <td>Kolkata</td>\n",
              "      <td>0.2282</td>\n",
              "      <td>2.0273</td>\n",
              "      <td>-0.2321</td>\n",
              "      <td>8.5</td>\n",
              "    </tr>\n",
              "    <tr>\n",
              "      <td>Total Fruits &amp; Vegetables</td>\n",
              "      <td>Jaipur</td>\n",
              "      <td>-0.0777</td>\n",
              "      <td>1.1188</td>\n",
              "      <td>-0.1488</td>\n",
              "      <td>2.95</td>\n",
              "    </tr>\n",
              "  </tbody>\n",
              "</table>"
            ],
            "text/plain": [
              "<IPython.core.display.HTML object>"
            ]
          },
          "metadata": {
            "tags": []
          }
        }
      ]
    },
    {
      "cell_type": "markdown",
      "metadata": {
        "id": "Jg8DCyNBWQoP"
      },
      "source": [
        "### Initializing Neural Network"
      ]
    },
    {
      "cell_type": "code",
      "metadata": {
        "id": "AETtx1dawzzq"
      },
      "source": [
        "learn = tabular_learner(data, layers=[300,100, 100, 50], metrics= rmse)"
      ],
      "execution_count": 80,
      "outputs": []
    },
    {
      "cell_type": "markdown",
      "metadata": {
        "id": "0lsZaZX_Wc11"
      },
      "source": [
        "### Training The Model"
      ]
    },
    {
      "cell_type": "code",
      "metadata": {
        "colab": {
          "base_uri": "https://localhost:8080/",
          "height": 824
        },
        "id": "fOxMFAUiwzx0",
        "outputId": "d50b63c8-db69-434d-cb81-4096c6a924a6"
      },
      "source": [
        "learn.fit(25, 1e-2)"
      ],
      "execution_count": 81,
      "outputs": [
        {
          "output_type": "display_data",
          "data": {
            "text/html": [
              "<table border=\"1\" class=\"dataframe\">\n",
              "  <thead>\n",
              "    <tr style=\"text-align: left;\">\n",
              "      <th>epoch</th>\n",
              "      <th>train_loss</th>\n",
              "      <th>valid_loss</th>\n",
              "      <th>root_mean_squared_error</th>\n",
              "      <th>time</th>\n",
              "    </tr>\n",
              "  </thead>\n",
              "  <tbody>\n",
              "    <tr>\n",
              "      <td>0</td>\n",
              "      <td>278.857666</td>\n",
              "      <td>313.619720</td>\n",
              "      <td>17.709312</td>\n",
              "      <td>00:00</td>\n",
              "    </tr>\n",
              "    <tr>\n",
              "      <td>1</td>\n",
              "      <td>293.999573</td>\n",
              "      <td>313.028534</td>\n",
              "      <td>17.692612</td>\n",
              "      <td>00:00</td>\n",
              "    </tr>\n",
              "    <tr>\n",
              "      <td>2</td>\n",
              "      <td>270.017700</td>\n",
              "      <td>313.592621</td>\n",
              "      <td>17.708546</td>\n",
              "      <td>00:00</td>\n",
              "    </tr>\n",
              "    <tr>\n",
              "      <td>3</td>\n",
              "      <td>258.186035</td>\n",
              "      <td>316.046631</td>\n",
              "      <td>17.777700</td>\n",
              "      <td>00:00</td>\n",
              "    </tr>\n",
              "    <tr>\n",
              "      <td>4</td>\n",
              "      <td>266.252289</td>\n",
              "      <td>320.980072</td>\n",
              "      <td>17.915916</td>\n",
              "      <td>00:00</td>\n",
              "    </tr>\n",
              "    <tr>\n",
              "      <td>5</td>\n",
              "      <td>268.839661</td>\n",
              "      <td>327.810944</td>\n",
              "      <td>18.105551</td>\n",
              "      <td>00:00</td>\n",
              "    </tr>\n",
              "    <tr>\n",
              "      <td>6</td>\n",
              "      <td>255.260284</td>\n",
              "      <td>337.067383</td>\n",
              "      <td>18.359394</td>\n",
              "      <td>00:00</td>\n",
              "    </tr>\n",
              "    <tr>\n",
              "      <td>7</td>\n",
              "      <td>253.389801</td>\n",
              "      <td>349.895447</td>\n",
              "      <td>18.705492</td>\n",
              "      <td>00:00</td>\n",
              "    </tr>\n",
              "    <tr>\n",
              "      <td>8</td>\n",
              "      <td>244.962082</td>\n",
              "      <td>364.436890</td>\n",
              "      <td>19.090231</td>\n",
              "      <td>00:00</td>\n",
              "    </tr>\n",
              "    <tr>\n",
              "      <td>9</td>\n",
              "      <td>242.061676</td>\n",
              "      <td>380.792572</td>\n",
              "      <td>19.513906</td>\n",
              "      <td>00:00</td>\n",
              "    </tr>\n",
              "    <tr>\n",
              "      <td>10</td>\n",
              "      <td>232.123230</td>\n",
              "      <td>397.068451</td>\n",
              "      <td>19.926577</td>\n",
              "      <td>00:00</td>\n",
              "    </tr>\n",
              "    <tr>\n",
              "      <td>11</td>\n",
              "      <td>224.770508</td>\n",
              "      <td>418.660461</td>\n",
              "      <td>20.461193</td>\n",
              "      <td>00:00</td>\n",
              "    </tr>\n",
              "    <tr>\n",
              "      <td>12</td>\n",
              "      <td>220.099609</td>\n",
              "      <td>447.560242</td>\n",
              "      <td>21.155621</td>\n",
              "      <td>00:00</td>\n",
              "    </tr>\n",
              "    <tr>\n",
              "      <td>13</td>\n",
              "      <td>212.958954</td>\n",
              "      <td>483.563110</td>\n",
              "      <td>21.990068</td>\n",
              "      <td>00:00</td>\n",
              "    </tr>\n",
              "    <tr>\n",
              "      <td>14</td>\n",
              "      <td>207.576782</td>\n",
              "      <td>517.849182</td>\n",
              "      <td>22.756300</td>\n",
              "      <td>00:00</td>\n",
              "    </tr>\n",
              "    <tr>\n",
              "      <td>15</td>\n",
              "      <td>200.443268</td>\n",
              "      <td>542.603027</td>\n",
              "      <td>23.293840</td>\n",
              "      <td>00:00</td>\n",
              "    </tr>\n",
              "    <tr>\n",
              "      <td>16</td>\n",
              "      <td>195.166000</td>\n",
              "      <td>559.418579</td>\n",
              "      <td>23.652031</td>\n",
              "      <td>00:00</td>\n",
              "    </tr>\n",
              "    <tr>\n",
              "      <td>17</td>\n",
              "      <td>187.750259</td>\n",
              "      <td>572.517395</td>\n",
              "      <td>23.927336</td>\n",
              "      <td>00:00</td>\n",
              "    </tr>\n",
              "    <tr>\n",
              "      <td>18</td>\n",
              "      <td>183.206650</td>\n",
              "      <td>586.954712</td>\n",
              "      <td>24.227148</td>\n",
              "      <td>00:00</td>\n",
              "    </tr>\n",
              "    <tr>\n",
              "      <td>19</td>\n",
              "      <td>178.990143</td>\n",
              "      <td>611.894104</td>\n",
              "      <td>24.736494</td>\n",
              "      <td>00:00</td>\n",
              "    </tr>\n",
              "    <tr>\n",
              "      <td>20</td>\n",
              "      <td>173.823624</td>\n",
              "      <td>635.004700</td>\n",
              "      <td>25.199299</td>\n",
              "      <td>00:00</td>\n",
              "    </tr>\n",
              "    <tr>\n",
              "      <td>21</td>\n",
              "      <td>168.875854</td>\n",
              "      <td>648.450806</td>\n",
              "      <td>25.464697</td>\n",
              "      <td>00:00</td>\n",
              "    </tr>\n",
              "    <tr>\n",
              "      <td>22</td>\n",
              "      <td>164.603775</td>\n",
              "      <td>648.289062</td>\n",
              "      <td>25.461521</td>\n",
              "      <td>00:00</td>\n",
              "    </tr>\n",
              "    <tr>\n",
              "      <td>23</td>\n",
              "      <td>159.743851</td>\n",
              "      <td>631.589905</td>\n",
              "      <td>25.131453</td>\n",
              "      <td>00:00</td>\n",
              "    </tr>\n",
              "    <tr>\n",
              "      <td>24</td>\n",
              "      <td>156.825165</td>\n",
              "      <td>629.241394</td>\n",
              "      <td>25.084684</td>\n",
              "      <td>00:00</td>\n",
              "    </tr>\n",
              "  </tbody>\n",
              "</table>"
            ],
            "text/plain": [
              "<IPython.core.display.HTML object>"
            ]
          },
          "metadata": {
            "tags": []
          }
        }
      ]
    },
    {
      "cell_type": "code",
      "metadata": {
        "colab": {
          "base_uri": "https://localhost:8080/",
          "height": 204
        },
        "id": "40z-A8eCcarb",
        "outputId": "b077704e-27d5-4e9f-b2ac-308f6144d823"
      },
      "source": [
        "learn.show_results(ds_type=DatasetType.Train)"
      ],
      "execution_count": 82,
      "outputs": [
        {
          "output_type": "display_data",
          "data": {
            "text/html": [
              "<table border=\"1\" class=\"dataframe\">\n",
              "  <thead>\n",
              "    <tr style=\"text-align: right;\">\n",
              "      <th>Crop</th>\n",
              "      <th>Location</th>\n",
              "      <th>Production06-07</th>\n",
              "      <th>Area10-11</th>\n",
              "      <th>Yield10-11</th>\n",
              "      <th>target</th>\n",
              "      <th>prediction</th>\n",
              "    </tr>\n",
              "  </thead>\n",
              "  <tbody>\n",
              "    <tr>\n",
              "      <td>Coffee</td>\n",
              "      <td>Pune</td>\n",
              "      <td>-0.1961</td>\n",
              "      <td>-0.0594</td>\n",
              "      <td>-0.2407</td>\n",
              "      <td>1.25</td>\n",
              "      <td>[-14.052549]</td>\n",
              "    </tr>\n",
              "    <tr>\n",
              "      <td>Rice</td>\n",
              "      <td>Pune</td>\n",
              "      <td>0.1060</td>\n",
              "      <td>0.6786</td>\n",
              "      <td>-0.2583</td>\n",
              "      <td>6.0</td>\n",
              "      <td>[-10.750392]</td>\n",
              "    </tr>\n",
              "    <tr>\n",
              "      <td>Coarse Cereals</td>\n",
              "      <td>Chennai</td>\n",
              "      <td>-0.1937</td>\n",
              "      <td>-0.4341</td>\n",
              "      <td>-0.0233</td>\n",
              "      <td>4.49</td>\n",
              "      <td>[-12.942563]</td>\n",
              "    </tr>\n",
              "    <tr>\n",
              "      <td>Onion</td>\n",
              "      <td>Delhi</td>\n",
              "      <td>0.2970</td>\n",
              "      <td>3.4865</td>\n",
              "      <td>-0.2327</td>\n",
              "      <td>10.31</td>\n",
              "      <td>[-1.127859]</td>\n",
              "    </tr>\n",
              "    <tr>\n",
              "      <td>Linseed</td>\n",
              "      <td>Kochi</td>\n",
              "      <td>-0.5910</td>\n",
              "      <td>-1.6704</td>\n",
              "      <td>-0.2652</td>\n",
              "      <td>18.55</td>\n",
              "      <td>[-0.999559]</td>\n",
              "    </tr>\n",
              "  </tbody>\n",
              "</table>"
            ],
            "text/plain": [
              "<IPython.core.display.HTML object>"
            ]
          },
          "metadata": {
            "tags": []
          }
        }
      ]
    },
    {
      "cell_type": "code",
      "metadata": {
        "scrolled": true,
        "colab": {
          "base_uri": "https://localhost:8080/",
          "height": 204
        },
        "id": "Bz1JbVtccarb",
        "outputId": "a216c41f-8322-414b-d764-996c52841a74"
      },
      "source": [
        "learn.show_results(ds_type=DatasetType.Valid)"
      ],
      "execution_count": 83,
      "outputs": [
        {
          "output_type": "display_data",
          "data": {
            "text/html": [
              "<table border=\"1\" class=\"dataframe\">\n",
              "  <thead>\n",
              "    <tr style=\"text-align: right;\">\n",
              "      <th>Crop</th>\n",
              "      <th>Location</th>\n",
              "      <th>Production06-07</th>\n",
              "      <th>Area10-11</th>\n",
              "      <th>Yield10-11</th>\n",
              "      <th>target</th>\n",
              "      <th>prediction</th>\n",
              "    </tr>\n",
              "  </thead>\n",
              "  <tbody>\n",
              "    <tr>\n",
              "      <td>Cereals</td>\n",
              "      <td>Kochi</td>\n",
              "      <td>-0.0705</td>\n",
              "      <td>0.0230</td>\n",
              "      <td>-0.1734</td>\n",
              "      <td>5.6</td>\n",
              "      <td>[-10.600332]</td>\n",
              "    </tr>\n",
              "    <tr>\n",
              "      <td>Gram</td>\n",
              "      <td>Kolkata</td>\n",
              "      <td>-0.1836</td>\n",
              "      <td>0.3995</td>\n",
              "      <td>-0.2770</td>\n",
              "      <td>27.0</td>\n",
              "      <td>[-13.243777]</td>\n",
              "    </tr>\n",
              "    <tr>\n",
              "      <td>Arhar</td>\n",
              "      <td>Jaipur</td>\n",
              "      <td>-0.3933</td>\n",
              "      <td>-0.1194</td>\n",
              "      <td>-0.4031</td>\n",
              "      <td>17.5</td>\n",
              "      <td>[-11.585635]</td>\n",
              "    </tr>\n",
              "    <tr>\n",
              "      <td>Other Pulses</td>\n",
              "      <td>Delhi</td>\n",
              "      <td>-0.1908</td>\n",
              "      <td>0.1972</td>\n",
              "      <td>-0.2380</td>\n",
              "      <td>15.0</td>\n",
              "      <td>[-2.476892]</td>\n",
              "    </tr>\n",
              "    <tr>\n",
              "      <td>Total Pulses</td>\n",
              "      <td>Pune</td>\n",
              "      <td>-0.2331</td>\n",
              "      <td>0.1953</td>\n",
              "      <td>-0.2839</td>\n",
              "      <td>5.4</td>\n",
              "      <td>[-7.254779]</td>\n",
              "    </tr>\n",
              "  </tbody>\n",
              "</table>"
            ],
            "text/plain": [
              "<IPython.core.display.HTML object>"
            ]
          },
          "metadata": {
            "tags": []
          }
        }
      ]
    },
    {
      "cell_type": "markdown",
      "metadata": {
        "id": "-Gj5Xgkycarc"
      },
      "source": [
        "## Saving & Exporting The Model"
      ]
    },
    {
      "cell_type": "code",
      "metadata": {
        "colab": {
          "base_uri": "https://localhost:8080/"
        },
        "id": "IEtGmv6Wh7T4",
        "outputId": "8d70adb5-fc48-4f45-dd9d-28c89f3d2949"
      },
      "source": [
        "learn.save('model',return_path=True)"
      ],
      "execution_count": 84,
      "outputs": [
        {
          "output_type": "execute_result",
          "data": {
            "text/plain": [
              "PosixPath('/content/models/model.pth')"
            ]
          },
          "metadata": {
            "tags": []
          },
          "execution_count": 84
        }
      ]
    },
    {
      "cell_type": "code",
      "metadata": {
        "id": "Pz2rMhp9mbdT"
      },
      "source": [
        "learn.export('model.pkl')"
      ],
      "execution_count": 85,
      "outputs": []
    },
    {
      "cell_type": "code",
      "metadata": {
        "id": "xwzStHpxcoPn"
      },
      "source": [
        "model = load_learner(path, 'model.pkl')"
      ],
      "execution_count": 86,
      "outputs": []
    }
  ]
}