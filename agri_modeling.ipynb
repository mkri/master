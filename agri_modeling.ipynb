{
  "nbformat": 4,
  "nbformat_minor": 0,
  "metadata": {
    "colab": {
      "name": "modeling.ipynb",
      "provenance": [],
      "toc_visible": true,
      "include_colab_link": true
    },
    "kernelspec": {
      "display_name": "Python 3",
      "language": "python",
      "name": "python3"
    },
    "language_info": {
      "codemirror_mode": {
        "name": "ipython",
        "version": 3
      },
      "file_extension": ".py",
      "mimetype": "text/x-python",
      "name": "python",
      "nbconvert_exporter": "python",
      "pygments_lexer": "ipython3",
      "version": "3.7.4"
    }
  },
  "cells": [
    {
      "cell_type": "markdown",
      "metadata": {
        "id": "view-in-github",
        "colab_type": "text"
      },
      "source": [
        "<a href=\"https://colab.research.google.com/github/mkri/master/blob/master/agri_modeling.ipynb\" target=\"_parent\"><img src=\"https://colab.research.google.com/assets/colab-badge.svg\" alt=\"Open In Colab\"/></a>"
      ]
    },
    {
      "cell_type": "markdown",
      "metadata": {
        "id": "1b6Akcf-carM"
      },
      "source": [
        "# Building FastAi Model"
      ]
    },
    {
      "cell_type": "code",
      "metadata": {
        "id": "VoodwCcjcarT"
      },
      "source": [
        "#Printing thw working directory\n",
        "import os\n",
        "wd = os.getcwd()"
      ],
      "execution_count": 12,
      "outputs": []
    },
    {
      "cell_type": "code",
      "metadata": {
        "colab": {
          "base_uri": "https://localhost:8080/",
          "height": 35
        },
        "id": "dNOMLJdOcarU",
        "outputId": "77902b2c-32fa-439c-e851-c25d418a02bb"
      },
      "source": [
        "wd"
      ],
      "execution_count": 2,
      "outputs": [
        {
          "output_type": "execute_result",
          "data": {
            "application/vnd.google.colaboratory.intrinsic+json": {
              "type": "string"
            },
            "text/plain": [
              "'/content'"
            ]
          },
          "metadata": {
            "tags": []
          },
          "execution_count": 2
        }
      ]
    },
    {
      "cell_type": "code",
      "metadata": {
        "id": "JKx52wNHcarV"
      },
      "source": [
        "# Setting The Home Directory for the project\n",
        "home_dir = wd[:-7]"
      ],
      "execution_count": 3,
      "outputs": []
    },
    {
      "cell_type": "code",
      "metadata": {
        "colab": {
          "base_uri": "https://localhost:8080/",
          "height": 35
        },
        "id": "fCs9L7rkcarV",
        "outputId": "6f72766e-d1bb-462e-d24f-80c1b5b9fa3a"
      },
      "source": [
        "home_dir"
      ],
      "execution_count": 4,
      "outputs": [
        {
          "output_type": "execute_result",
          "data": {
            "application/vnd.google.colaboratory.intrinsic+json": {
              "type": "string"
            },
            "text/plain": [
              "'/'"
            ]
          },
          "metadata": {
            "tags": []
          },
          "execution_count": 4
        }
      ]
    },
    {
      "cell_type": "code",
      "metadata": {
        "colab": {
          "base_uri": "https://localhost:8080/"
        },
        "id": "YJfKELakcarW",
        "outputId": "20b4ddfb-8083-403b-e02b-efc1f1b28970"
      },
      "source": [
        "#Listing the home directory and working directory contents\n",
        "print('HOME DIRECTORY')\n",
        "print(os.listdir(home_dir))\n",
        "print('WORKING DIRECTORY')\n",
        "print(os.listdir(wd))"
      ],
      "execution_count": 5,
      "outputs": [
        {
          "output_type": "stream",
          "text": [
            "HOME DIRECTORY\n",
            "['srv', 'sys', 'root', 'var', 'usr', 'dev', 'proc', 'bin', 'sbin', 'run', 'mnt', 'home', 'boot', 'media', 'etc', 'opt', 'lib64', 'tmp', 'lib', 'content', '.dockerenv', 'datalab', 'tools', 'swift', 'tensorflow-1.15.2', 'lib32']\n",
            "WORKING DIRECTORY\n",
            "['.config', 'datafileNew.csv', 'sample_data']\n"
          ],
          "name": "stdout"
        }
      ]
    },
    {
      "cell_type": "markdown",
      "metadata": {
        "id": "NW-oSIVacarW"
      },
      "source": [
        "## Loading The Datasets"
      ]
    },
    {
      "cell_type": "code",
      "metadata": {
        "id": "y0mIWjyrdrpy"
      },
      "source": [
        "import pandas as pd\n",
        "import numpy as np\n",
        "training_set = pd.read_csv(wd+'/datafileNew.csv')"
      ],
      "execution_count": 142,
      "outputs": []
    },
    {
      "cell_type": "code",
      "metadata": {
        "colab": {
          "base_uri": "https://localhost:8080/",
          "height": 204
        },
        "id": "vSEa6kilqvMF",
        "outputId": "b084c55c-15e6-46cc-d76a-33bf0374b97a"
      },
      "source": [
        "training_set.head(5)"
      ],
      "execution_count": 143,
      "outputs": [
        {
          "output_type": "execute_result",
          "data": {
            "text/html": [
              "<div>\n",
              "<style scoped>\n",
              "    .dataframe tbody tr th:only-of-type {\n",
              "        vertical-align: middle;\n",
              "    }\n",
              "\n",
              "    .dataframe tbody tr th {\n",
              "        vertical-align: top;\n",
              "    }\n",
              "\n",
              "    .dataframe thead th {\n",
              "        text-align: right;\n",
              "    }\n",
              "</style>\n",
              "<table border=\"1\" class=\"dataframe\">\n",
              "  <thead>\n",
              "    <tr style=\"text-align: right;\">\n",
              "      <th></th>\n",
              "      <th>Crop</th>\n",
              "      <th>Year</th>\n",
              "      <th>Month</th>\n",
              "      <th>Price</th>\n",
              "      <th>Location</th>\n",
              "    </tr>\n",
              "  </thead>\n",
              "  <tbody>\n",
              "    <tr>\n",
              "      <th>0</th>\n",
              "      <td>Rice</td>\n",
              "      <td>2020</td>\n",
              "      <td>Jan</td>\n",
              "      <td>99.80</td>\n",
              "      <td>Mumbai</td>\n",
              "    </tr>\n",
              "    <tr>\n",
              "      <th>1</th>\n",
              "      <td>Wheat</td>\n",
              "      <td>2020</td>\n",
              "      <td>Feb</td>\n",
              "      <td>112.00</td>\n",
              "      <td>Pune</td>\n",
              "    </tr>\n",
              "    <tr>\n",
              "      <th>2</th>\n",
              "      <td>Coarse Cereals</td>\n",
              "      <td>2020</td>\n",
              "      <td>Mar</td>\n",
              "      <td>110.00</td>\n",
              "      <td>Chennai</td>\n",
              "    </tr>\n",
              "    <tr>\n",
              "      <th>3</th>\n",
              "      <td>Pulses</td>\n",
              "      <td>2020</td>\n",
              "      <td>Apr</td>\n",
              "      <td>134.00</td>\n",
              "      <td>Chennai</td>\n",
              "    </tr>\n",
              "    <tr>\n",
              "      <th>4</th>\n",
              "      <td>Vegetables</td>\n",
              "      <td>2020</td>\n",
              "      <td>May</td>\n",
              "      <td>103.45</td>\n",
              "      <td>Coimbatore</td>\n",
              "    </tr>\n",
              "  </tbody>\n",
              "</table>\n",
              "</div>"
            ],
            "text/plain": [
              "             Crop  Year Month   Price    Location\n",
              "0            Rice  2020   Jan   99.80      Mumbai\n",
              "1           Wheat  2020   Feb  112.00        Pune\n",
              "2  Coarse Cereals  2020   Mar  110.00     Chennai\n",
              "3          Pulses  2020   Apr  134.00     Chennai\n",
              "4     Vegetables   2020   May  103.45  Coimbatore"
            ]
          },
          "metadata": {
            "tags": []
          },
          "execution_count": 143
        }
      ]
    },
    {
      "cell_type": "markdown",
      "metadata": {
        "id": "71ilUoXycarY"
      },
      "source": [
        "### Selecting Few Features"
      ]
    },
    {
      "cell_type": "code",
      "metadata": {
        "id": "9BBPP5NAfkur"
      },
      "source": [
        "cols = ['Crop', 'Year', 'Month','Price', 'Location']"
      ],
      "execution_count": 135,
      "outputs": []
    },
    {
      "cell_type": "code",
      "metadata": {
        "id": "__7hgfYL1atI"
      },
      "source": [
        "train_d = training_set[cols]"
      ],
      "execution_count": 144,
      "outputs": []
    },
    {
      "cell_type": "code",
      "metadata": {
        "colab": {
          "base_uri": "https://localhost:8080/"
        },
        "id": "b3JX0LY63t8v",
        "outputId": "a41016d0-d22c-4845-f52b-d95fa693eff8"
      },
      "source": [
        "train_d.info()"
      ],
      "execution_count": 145,
      "outputs": [
        {
          "output_type": "stream",
          "text": [
            "<class 'pandas.core.frame.DataFrame'>\n",
            "RangeIndex: 179 entries, 0 to 178\n",
            "Data columns (total 5 columns):\n",
            " #   Column    Non-Null Count  Dtype  \n",
            "---  ------    --------------  -----  \n",
            " 0   Crop      179 non-null    object \n",
            " 1   Year      179 non-null    int64  \n",
            " 2   Month     179 non-null    object \n",
            " 3   Price     179 non-null    float64\n",
            " 4   Location  179 non-null    object \n",
            "dtypes: float64(1), int64(1), object(3)\n",
            "memory usage: 7.1+ KB\n"
          ],
          "name": "stdout"
        }
      ]
    },
    {
      "cell_type": "markdown",
      "metadata": {
        "id": "Jz4R89Lil2vF"
      },
      "source": [
        "## Modeling With Fast.ai\n"
      ]
    },
    {
      "cell_type": "code",
      "metadata": {
        "id": "b1axpAjKl7Oi"
      },
      "source": [
        "from fastai.tabular import *\n",
        "#This path will be used for saving and exporting the model\n",
        "path = wd"
      ],
      "execution_count": 146,
      "outputs": []
    },
    {
      "cell_type": "code",
      "metadata": {
        "id": "tQcQyVVKUc21"
      },
      "source": [
        "#The target variable that we are trying to predict\n",
        "dep_var = 'Price'\n",
        "\n",
        "#The categorical variables \n",
        "cat_names = list(train_d.select_dtypes('object').columns)\n",
        "\n",
        "#The continuous variables\n",
        "cont_names =[] #No need to keep the Dependend variable\n",
        "\n",
        "#Preprocessing steps for the fastai learner\n",
        "procs = [FillMissing, Categorify, Normalize]"
      ],
      "execution_count": 147,
      "outputs": []
    },
    {
      "cell_type": "code",
      "metadata": {
        "id": "hetMkktbUcy9"
      },
      "source": [
        "#Creating a validation set\n",
        "val = TabularList.from_df(train_d.iloc[800:1000].copy(), path=path, cat_names=cat_names, cont_names=cont_names)"
      ],
      "execution_count": 148,
      "outputs": []
    },
    {
      "cell_type": "code",
      "metadata": {
        "id": "UoAVDfT5UcqY"
      },
      "source": [
        "#Creating a trainig set\n",
        "data = (TabularList.from_df(train_d, path=path, cat_names=cat_names, cont_names=cont_names, procs=procs)\n",
        "                           .split_by_idx(list(range(len(train_d) - int(len(train_d) * 0.2),len(train_d))))\n",
        "                           .label_from_df(cols=dep_var)\n",
        "                           .add_test(val)\n",
        "                           .databunch())"
      ],
      "execution_count": 149,
      "outputs": []
    },
    {
      "cell_type": "code",
      "metadata": {
        "colab": {
          "base_uri": "https://localhost:8080/",
          "height": 204
        },
        "id": "vDDUdyFdw0Au",
        "outputId": "8333d344-5258-4a78-f40e-64aec296c551"
      },
      "source": [
        "data.show_batch()"
      ],
      "execution_count": 150,
      "outputs": [
        {
          "output_type": "display_data",
          "data": {
            "text/html": [
              "<table border=\"1\" class=\"dataframe\">\n",
              "  <thead>\n",
              "    <tr style=\"text-align: right;\">\n",
              "      <th>Crop</th>\n",
              "      <th>Month</th>\n",
              "      <th>Location</th>\n",
              "      <th>target</th>\n",
              "    </tr>\n",
              "  </thead>\n",
              "  <tbody>\n",
              "    <tr>\n",
              "      <td>Oilseeds</td>\n",
              "      <td>Jan</td>\n",
              "      <td>Mumbai</td>\n",
              "      <td>115.0</td>\n",
              "    </tr>\n",
              "    <tr>\n",
              "      <td>Fruits</td>\n",
              "      <td>Jan</td>\n",
              "      <td>Kochi</td>\n",
              "      <td>117.0</td>\n",
              "    </tr>\n",
              "    <tr>\n",
              "      <td>Fibers</td>\n",
              "      <td>Sep</td>\n",
              "      <td>Chennai</td>\n",
              "      <td>124.0</td>\n",
              "    </tr>\n",
              "    <tr>\n",
              "      <td>Fibers</td>\n",
              "      <td>Aug</td>\n",
              "      <td>Jaipur</td>\n",
              "      <td>109.0</td>\n",
              "    </tr>\n",
              "    <tr>\n",
              "      <td>Eggs, Fish and Meat</td>\n",
              "      <td>Dec</td>\n",
              "      <td>Jaipur</td>\n",
              "      <td>137.0</td>\n",
              "    </tr>\n",
              "  </tbody>\n",
              "</table>"
            ],
            "text/plain": [
              "<IPython.core.display.HTML object>"
            ]
          },
          "metadata": {
            "tags": []
          }
        }
      ]
    },
    {
      "cell_type": "markdown",
      "metadata": {
        "id": "Jg8DCyNBWQoP"
      },
      "source": [
        "### Initializing Neural Network"
      ]
    },
    {
      "cell_type": "code",
      "metadata": {
        "id": "AETtx1dawzzq"
      },
      "source": [
        "learn = tabular_learner(data, layers=[100,75,50,25], metrics= rmse)"
      ],
      "execution_count": 151,
      "outputs": []
    },
    {
      "cell_type": "markdown",
      "metadata": {
        "id": "0lsZaZX_Wc11"
      },
      "source": [
        "### Training The Model"
      ]
    },
    {
      "cell_type": "code",
      "metadata": {
        "colab": {
          "base_uri": "https://localhost:8080/",
          "height": 824
        },
        "id": "fOxMFAUiwzx0",
        "outputId": "d6bd34da-e4ed-416b-9b89-a4ad3a5ff72f"
      },
      "source": [
        "learn.fit(25, 1e-2)"
      ],
      "execution_count": 152,
      "outputs": [
        {
          "output_type": "display_data",
          "data": {
            "text/html": [
              "<table border=\"1\" class=\"dataframe\">\n",
              "  <thead>\n",
              "    <tr style=\"text-align: left;\">\n",
              "      <th>epoch</th>\n",
              "      <th>train_loss</th>\n",
              "      <th>valid_loss</th>\n",
              "      <th>root_mean_squared_error</th>\n",
              "      <th>time</th>\n",
              "    </tr>\n",
              "  </thead>\n",
              "  <tbody>\n",
              "    <tr>\n",
              "      <td>0</td>\n",
              "      <td>12280.515625</td>\n",
              "      <td>14012.603516</td>\n",
              "      <td>118.374847</td>\n",
              "      <td>00:00</td>\n",
              "    </tr>\n",
              "    <tr>\n",
              "      <td>1</td>\n",
              "      <td>12242.657227</td>\n",
              "      <td>13966.692383</td>\n",
              "      <td>118.180763</td>\n",
              "      <td>00:00</td>\n",
              "    </tr>\n",
              "    <tr>\n",
              "      <td>2</td>\n",
              "      <td>12253.839844</td>\n",
              "      <td>13900.385742</td>\n",
              "      <td>117.899887</td>\n",
              "      <td>00:00</td>\n",
              "    </tr>\n",
              "    <tr>\n",
              "      <td>3</td>\n",
              "      <td>12255.158203</td>\n",
              "      <td>13802.250000</td>\n",
              "      <td>117.482979</td>\n",
              "      <td>00:00</td>\n",
              "    </tr>\n",
              "    <tr>\n",
              "      <td>4</td>\n",
              "      <td>12227.377930</td>\n",
              "      <td>13689.191406</td>\n",
              "      <td>117.000816</td>\n",
              "      <td>00:00</td>\n",
              "    </tr>\n",
              "    <tr>\n",
              "      <td>5</td>\n",
              "      <td>12230.311523</td>\n",
              "      <td>13540.265625</td>\n",
              "      <td>116.362648</td>\n",
              "      <td>00:00</td>\n",
              "    </tr>\n",
              "    <tr>\n",
              "      <td>6</td>\n",
              "      <td>12203.735352</td>\n",
              "      <td>13385.567383</td>\n",
              "      <td>115.696014</td>\n",
              "      <td>00:00</td>\n",
              "    </tr>\n",
              "    <tr>\n",
              "      <td>7</td>\n",
              "      <td>12167.602539</td>\n",
              "      <td>13160.973633</td>\n",
              "      <td>114.721283</td>\n",
              "      <td>00:00</td>\n",
              "    </tr>\n",
              "    <tr>\n",
              "      <td>8</td>\n",
              "      <td>12138.395508</td>\n",
              "      <td>12913.643555</td>\n",
              "      <td>113.638214</td>\n",
              "      <td>00:00</td>\n",
              "    </tr>\n",
              "    <tr>\n",
              "      <td>9</td>\n",
              "      <td>12087.268555</td>\n",
              "      <td>12663.348633</td>\n",
              "      <td>112.531548</td>\n",
              "      <td>00:00</td>\n",
              "    </tr>\n",
              "    <tr>\n",
              "      <td>10</td>\n",
              "      <td>12056.334961</td>\n",
              "      <td>12459.216797</td>\n",
              "      <td>111.620865</td>\n",
              "      <td>00:00</td>\n",
              "    </tr>\n",
              "    <tr>\n",
              "      <td>11</td>\n",
              "      <td>12012.959961</td>\n",
              "      <td>12258.949219</td>\n",
              "      <td>110.720139</td>\n",
              "      <td>00:00</td>\n",
              "    </tr>\n",
              "    <tr>\n",
              "      <td>12</td>\n",
              "      <td>11988.726562</td>\n",
              "      <td>12076.640625</td>\n",
              "      <td>109.893768</td>\n",
              "      <td>00:00</td>\n",
              "    </tr>\n",
              "    <tr>\n",
              "      <td>13</td>\n",
              "      <td>11942.912109</td>\n",
              "      <td>12111.823242</td>\n",
              "      <td>110.053726</td>\n",
              "      <td>00:00</td>\n",
              "    </tr>\n",
              "    <tr>\n",
              "      <td>14</td>\n",
              "      <td>11893.878906</td>\n",
              "      <td>12154.948242</td>\n",
              "      <td>110.249481</td>\n",
              "      <td>00:00</td>\n",
              "    </tr>\n",
              "    <tr>\n",
              "      <td>15</td>\n",
              "      <td>11849.352539</td>\n",
              "      <td>12168.730469</td>\n",
              "      <td>110.311966</td>\n",
              "      <td>00:00</td>\n",
              "    </tr>\n",
              "    <tr>\n",
              "      <td>16</td>\n",
              "      <td>11797.630859</td>\n",
              "      <td>12197.922852</td>\n",
              "      <td>110.444206</td>\n",
              "      <td>00:00</td>\n",
              "    </tr>\n",
              "    <tr>\n",
              "      <td>17</td>\n",
              "      <td>11749.920898</td>\n",
              "      <td>12233.894531</td>\n",
              "      <td>110.606934</td>\n",
              "      <td>00:00</td>\n",
              "    </tr>\n",
              "    <tr>\n",
              "      <td>18</td>\n",
              "      <td>11706.750977</td>\n",
              "      <td>12517.071289</td>\n",
              "      <td>111.879715</td>\n",
              "      <td>00:00</td>\n",
              "    </tr>\n",
              "    <tr>\n",
              "      <td>19</td>\n",
              "      <td>11637.470703</td>\n",
              "      <td>12565.546875</td>\n",
              "      <td>112.096153</td>\n",
              "      <td>00:00</td>\n",
              "    </tr>\n",
              "    <tr>\n",
              "      <td>20</td>\n",
              "      <td>11570.817383</td>\n",
              "      <td>12342.303711</td>\n",
              "      <td>111.095924</td>\n",
              "      <td>00:00</td>\n",
              "    </tr>\n",
              "    <tr>\n",
              "      <td>21</td>\n",
              "      <td>11502.346680</td>\n",
              "      <td>12530.253906</td>\n",
              "      <td>111.938614</td>\n",
              "      <td>00:00</td>\n",
              "    </tr>\n",
              "    <tr>\n",
              "      <td>22</td>\n",
              "      <td>11425.537109</td>\n",
              "      <td>12077.557617</td>\n",
              "      <td>109.897942</td>\n",
              "      <td>00:00</td>\n",
              "    </tr>\n",
              "    <tr>\n",
              "      <td>23</td>\n",
              "      <td>11364.280273</td>\n",
              "      <td>11656.357422</td>\n",
              "      <td>107.964615</td>\n",
              "      <td>00:00</td>\n",
              "    </tr>\n",
              "    <tr>\n",
              "      <td>24</td>\n",
              "      <td>11284.417969</td>\n",
              "      <td>11423.637695</td>\n",
              "      <td>106.881416</td>\n",
              "      <td>00:00</td>\n",
              "    </tr>\n",
              "  </tbody>\n",
              "</table>"
            ],
            "text/plain": [
              "<IPython.core.display.HTML object>"
            ]
          },
          "metadata": {
            "tags": []
          }
        }
      ]
    },
    {
      "cell_type": "code",
      "metadata": {
        "colab": {
          "base_uri": "https://localhost:8080/",
          "height": 204
        },
        "id": "40z-A8eCcarb",
        "outputId": "e960ba7f-9ee0-48af-a292-3c33e3be1f97"
      },
      "source": [
        "learn.show_results(ds_type=DatasetType.Train)"
      ],
      "execution_count": 153,
      "outputs": [
        {
          "output_type": "display_data",
          "data": {
            "text/html": [
              "<table border=\"1\" class=\"dataframe\">\n",
              "  <thead>\n",
              "    <tr style=\"text-align: right;\">\n",
              "      <th>Crop</th>\n",
              "      <th>Month</th>\n",
              "      <th>Location</th>\n",
              "      <th>target</th>\n",
              "      <th>prediction</th>\n",
              "    </tr>\n",
              "  </thead>\n",
              "  <tbody>\n",
              "    <tr>\n",
              "      <td>Vegetables</td>\n",
              "      <td>Feb</td>\n",
              "      <td>Kolkata</td>\n",
              "      <td>120.0</td>\n",
              "      <td>[18.35559]</td>\n",
              "    </tr>\n",
              "    <tr>\n",
              "      <td>Coarse Cereals</td>\n",
              "      <td>Oct</td>\n",
              "      <td>Mumbai</td>\n",
              "      <td>81.0</td>\n",
              "      <td>[-1.389244]</td>\n",
              "    </tr>\n",
              "    <tr>\n",
              "      <td>Rice</td>\n",
              "      <td>Nov</td>\n",
              "      <td>Chennai</td>\n",
              "      <td>105.0</td>\n",
              "      <td>[6.518528]</td>\n",
              "    </tr>\n",
              "    <tr>\n",
              "      <td>Sugarcane</td>\n",
              "      <td>Jan</td>\n",
              "      <td>Coimbatore</td>\n",
              "      <td>105.0</td>\n",
              "      <td>[10.249102]</td>\n",
              "    </tr>\n",
              "    <tr>\n",
              "      <td>Fruits</td>\n",
              "      <td>Jul</td>\n",
              "      <td>Hyderabad</td>\n",
              "      <td>81.0</td>\n",
              "      <td>[-4.11881]</td>\n",
              "    </tr>\n",
              "  </tbody>\n",
              "</table>"
            ],
            "text/plain": [
              "<IPython.core.display.HTML object>"
            ]
          },
          "metadata": {
            "tags": []
          }
        }
      ]
    },
    {
      "cell_type": "code",
      "metadata": {
        "scrolled": true,
        "colab": {
          "base_uri": "https://localhost:8080/",
          "height": 204
        },
        "id": "Bz1JbVtccarb",
        "outputId": "9a429b63-4f29-49b1-9465-e57e59f4f02d"
      },
      "source": [
        "learn.show_results(ds_type=DatasetType.Valid)"
      ],
      "execution_count": 154,
      "outputs": [
        {
          "output_type": "display_data",
          "data": {
            "text/html": [
              "<table border=\"1\" class=\"dataframe\">\n",
              "  <thead>\n",
              "    <tr style=\"text-align: right;\">\n",
              "      <th>Crop</th>\n",
              "      <th>Month</th>\n",
              "      <th>Location</th>\n",
              "      <th>target</th>\n",
              "      <th>prediction</th>\n",
              "    </tr>\n",
              "  </thead>\n",
              "  <tbody>\n",
              "    <tr>\n",
              "      <td>Oilseeds</td>\n",
              "      <td>Jan</td>\n",
              "      <td>Chennai</td>\n",
              "      <td>136.0</td>\n",
              "      <td>[7.200751]</td>\n",
              "    </tr>\n",
              "    <tr>\n",
              "      <td>Sugarcane</td>\n",
              "      <td>Feb</td>\n",
              "      <td>Kochi</td>\n",
              "      <td>129.0</td>\n",
              "      <td>[25.230421]</td>\n",
              "    </tr>\n",
              "    <tr>\n",
              "      <td>Fibers</td>\n",
              "      <td>Mar</td>\n",
              "      <td>Kolkata</td>\n",
              "      <td>115.0</td>\n",
              "      <td>[19.739527]</td>\n",
              "    </tr>\n",
              "    <tr>\n",
              "      <td>All Agriculture</td>\n",
              "      <td>Apr</td>\n",
              "      <td>Chennai</td>\n",
              "      <td>119.0</td>\n",
              "      <td>[23.62733]</td>\n",
              "    </tr>\n",
              "    <tr>\n",
              "      <td>Wheat</td>\n",
              "      <td>May</td>\n",
              "      <td>Coimbatore</td>\n",
              "      <td>124.0</td>\n",
              "      <td>[7.522519]</td>\n",
              "    </tr>\n",
              "  </tbody>\n",
              "</table>"
            ],
            "text/plain": [
              "<IPython.core.display.HTML object>"
            ]
          },
          "metadata": {
            "tags": []
          }
        }
      ]
    },
    {
      "cell_type": "markdown",
      "metadata": {
        "id": "-Gj5Xgkycarc"
      },
      "source": [
        "## Saving & Exporting The Model"
      ]
    },
    {
      "cell_type": "code",
      "metadata": {
        "colab": {
          "base_uri": "https://localhost:8080/"
        },
        "id": "IEtGmv6Wh7T4",
        "outputId": "d2d26278-28d2-4751-caa8-c9f7f781331c"
      },
      "source": [
        "learn.save('model',return_path=True)"
      ],
      "execution_count": 155,
      "outputs": [
        {
          "output_type": "execute_result",
          "data": {
            "text/plain": [
              "PosixPath('/content/models/model.pth')"
            ]
          },
          "metadata": {
            "tags": []
          },
          "execution_count": 155
        }
      ]
    },
    {
      "cell_type": "code",
      "metadata": {
        "id": "Pz2rMhp9mbdT"
      },
      "source": [
        "learn.export('model.pkl')"
      ],
      "execution_count": 156,
      "outputs": []
    }
  ]
}