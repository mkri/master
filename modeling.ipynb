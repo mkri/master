{
  "nbformat": 4,
  "nbformat_minor": 0,
  "metadata": {
    "colab": {
      "name": "modeling.ipynb",
      "provenance": [],
      "include_colab_link": true
    },
    "kernelspec": {
      "display_name": "Python 3",
      "language": "python",
      "name": "python3"
    },
    "language_info": {
      "codemirror_mode": {
        "name": "ipython",
        "version": 3
      },
      "file_extension": ".py",
      "mimetype": "text/x-python",
      "name": "python",
      "nbconvert_exporter": "python",
      "pygments_lexer": "ipython3",
      "version": "3.7.4"
    }
  },
  "cells": [
    {
      "cell_type": "markdown",
      "metadata": {
        "id": "view-in-github",
        "colab_type": "text"
      },
      "source": [
        "<a href=\"https://colab.research.google.com/github/mkri/master/blob/master/modeling.ipynb\" target=\"_parent\"><img src=\"https://colab.research.google.com/assets/colab-badge.svg\" alt=\"Open In Colab\"/></a>"
      ]
    },
    {
      "cell_type": "markdown",
      "metadata": {
        "id": "1b6Akcf-carM"
      },
      "source": [
        "# Building FastAi Model"
      ]
    },
    {
      "cell_type": "code",
      "metadata": {
        "id": "VoodwCcjcarT"
      },
      "source": [
        "#Printing thw working directory\n",
        "import os\n",
        "wd = os.getcwd()"
      ],
      "execution_count": 5,
      "outputs": []
    },
    {
      "cell_type": "code",
      "metadata": {
        "colab": {
          "base_uri": "https://localhost:8080/",
          "height": 35
        },
        "id": "dNOMLJdOcarU",
        "outputId": "9e524b45-110f-4d10-d75a-241b128786bb"
      },
      "source": [
        "wd"
      ],
      "execution_count": 6,
      "outputs": [
        {
          "output_type": "execute_result",
          "data": {
            "application/vnd.google.colaboratory.intrinsic+json": {
              "type": "string"
            },
            "text/plain": [
              "'/content'"
            ]
          },
          "metadata": {
            "tags": []
          },
          "execution_count": 6
        }
      ]
    },
    {
      "cell_type": "code",
      "metadata": {
        "id": "JKx52wNHcarV"
      },
      "source": [
        "# Setting The Home Directory for the project\n",
        "home_dir = wd[:-7]"
      ],
      "execution_count": 11,
      "outputs": []
    },
    {
      "cell_type": "code",
      "metadata": {
        "colab": {
          "base_uri": "https://localhost:8080/",
          "height": 35
        },
        "id": "fCs9L7rkcarV",
        "outputId": "a82e337a-0145-4211-83fa-135d956ed94f"
      },
      "source": [
        "home_dir"
      ],
      "execution_count": 12,
      "outputs": [
        {
          "output_type": "execute_result",
          "data": {
            "application/vnd.google.colaboratory.intrinsic+json": {
              "type": "string"
            },
            "text/plain": [
              "'/'"
            ]
          },
          "metadata": {
            "tags": []
          },
          "execution_count": 12
        }
      ]
    },
    {
      "cell_type": "code",
      "metadata": {
        "colab": {
          "base_uri": "https://localhost:8080/"
        },
        "id": "YJfKELakcarW",
        "outputId": "f56b64e4-53c0-4e29-8594-6b6ea6b2fca5"
      },
      "source": [
        "#Listing the home directory and working directory contents\n",
        "print('HOME DIRECTORY')\n",
        "print(os.listdir(home_dir))\n",
        "print('WORKING DIRECTORY')\n",
        "print(os.listdir(wd))"
      ],
      "execution_count": 13,
      "outputs": [
        {
          "output_type": "stream",
          "text": [
            "HOME DIRECTORY\n",
            "['sys', 'root', 'media', 'boot', 'sbin', 'mnt', 'proc', 'etc', 'home', 'srv', 'tmp', 'dev', 'opt', 'run', 'bin', 'lib', 'var', 'lib64', 'usr', 'content', '.dockerenv', 'datalab', 'tools', 'swift', 'tensorflow-1.15.2', 'lib32']\n",
            "WORKING DIRECTORY\n",
            "['.config', 'Data_Train_Cars.xlsx', 'sample_data']\n"
          ],
          "name": "stdout"
        }
      ]
    },
    {
      "cell_type": "markdown",
      "metadata": {
        "id": "NW-oSIVacarW"
      },
      "source": [
        "## Loading The Datasets"
      ]
    },
    {
      "cell_type": "code",
      "metadata": {
        "id": "y0mIWjyrdrpy"
      },
      "source": [
        "import pandas as pd\n",
        "import numpy as np\n",
        "training_set = pd.read_excel(wd+'/Data_Train_Cars.xlsx')"
      ],
      "execution_count": 14,
      "outputs": []
    },
    {
      "cell_type": "code",
      "metadata": {
        "colab": {
          "base_uri": "https://localhost:8080/",
          "height": 394
        },
        "id": "vSEa6kilqvMF",
        "outputId": "7b88f83d-72cc-45c6-ac35-f219882725e8"
      },
      "source": [
        "training_set.head(5)"
      ],
      "execution_count": 15,
      "outputs": [
        {
          "output_type": "execute_result",
          "data": {
            "text/html": [
              "<div>\n",
              "<style scoped>\n",
              "    .dataframe tbody tr th:only-of-type {\n",
              "        vertical-align: middle;\n",
              "    }\n",
              "\n",
              "    .dataframe tbody tr th {\n",
              "        vertical-align: top;\n",
              "    }\n",
              "\n",
              "    .dataframe thead th {\n",
              "        text-align: right;\n",
              "    }\n",
              "</style>\n",
              "<table border=\"1\" class=\"dataframe\">\n",
              "  <thead>\n",
              "    <tr style=\"text-align: right;\">\n",
              "      <th></th>\n",
              "      <th>Name</th>\n",
              "      <th>Location</th>\n",
              "      <th>Year</th>\n",
              "      <th>Kilometers_Driven</th>\n",
              "      <th>Fuel_Type</th>\n",
              "      <th>Transmission</th>\n",
              "      <th>Owner_Type</th>\n",
              "      <th>Mileage</th>\n",
              "      <th>Engine</th>\n",
              "      <th>Power</th>\n",
              "      <th>Seats</th>\n",
              "      <th>New_Price</th>\n",
              "      <th>Price</th>\n",
              "    </tr>\n",
              "  </thead>\n",
              "  <tbody>\n",
              "    <tr>\n",
              "      <th>0</th>\n",
              "      <td>Maruti Wagon R LXI CNG</td>\n",
              "      <td>Mumbai</td>\n",
              "      <td>2010</td>\n",
              "      <td>72000</td>\n",
              "      <td>CNG</td>\n",
              "      <td>Manual</td>\n",
              "      <td>First</td>\n",
              "      <td>26.6 km/kg</td>\n",
              "      <td>998 CC</td>\n",
              "      <td>58.16 bhp</td>\n",
              "      <td>5.0</td>\n",
              "      <td>NaN</td>\n",
              "      <td>1.75</td>\n",
              "    </tr>\n",
              "    <tr>\n",
              "      <th>1</th>\n",
              "      <td>Hyundai Creta 1.6 CRDi SX Option</td>\n",
              "      <td>Pune</td>\n",
              "      <td>2015</td>\n",
              "      <td>41000</td>\n",
              "      <td>Diesel</td>\n",
              "      <td>Manual</td>\n",
              "      <td>First</td>\n",
              "      <td>19.67 kmpl</td>\n",
              "      <td>1582 CC</td>\n",
              "      <td>126.2 bhp</td>\n",
              "      <td>5.0</td>\n",
              "      <td>NaN</td>\n",
              "      <td>12.50</td>\n",
              "    </tr>\n",
              "    <tr>\n",
              "      <th>2</th>\n",
              "      <td>Honda Jazz V</td>\n",
              "      <td>Chennai</td>\n",
              "      <td>2011</td>\n",
              "      <td>46000</td>\n",
              "      <td>Petrol</td>\n",
              "      <td>Manual</td>\n",
              "      <td>First</td>\n",
              "      <td>18.2 kmpl</td>\n",
              "      <td>1199 CC</td>\n",
              "      <td>88.7 bhp</td>\n",
              "      <td>5.0</td>\n",
              "      <td>8.61 Lakh</td>\n",
              "      <td>4.50</td>\n",
              "    </tr>\n",
              "    <tr>\n",
              "      <th>3</th>\n",
              "      <td>Maruti Ertiga VDI</td>\n",
              "      <td>Chennai</td>\n",
              "      <td>2012</td>\n",
              "      <td>87000</td>\n",
              "      <td>Diesel</td>\n",
              "      <td>Manual</td>\n",
              "      <td>First</td>\n",
              "      <td>20.77 kmpl</td>\n",
              "      <td>1248 CC</td>\n",
              "      <td>88.76 bhp</td>\n",
              "      <td>7.0</td>\n",
              "      <td>NaN</td>\n",
              "      <td>6.00</td>\n",
              "    </tr>\n",
              "    <tr>\n",
              "      <th>4</th>\n",
              "      <td>Audi A4 New 2.0 TDI Multitronic</td>\n",
              "      <td>Coimbatore</td>\n",
              "      <td>2013</td>\n",
              "      <td>40670</td>\n",
              "      <td>Diesel</td>\n",
              "      <td>Automatic</td>\n",
              "      <td>Second</td>\n",
              "      <td>15.2 kmpl</td>\n",
              "      <td>1968 CC</td>\n",
              "      <td>140.8 bhp</td>\n",
              "      <td>5.0</td>\n",
              "      <td>NaN</td>\n",
              "      <td>17.74</td>\n",
              "    </tr>\n",
              "  </tbody>\n",
              "</table>\n",
              "</div>"
            ],
            "text/plain": [
              "                               Name    Location  Year  ...  Seats  New_Price  Price\n",
              "0            Maruti Wagon R LXI CNG      Mumbai  2010  ...    5.0        NaN   1.75\n",
              "1  Hyundai Creta 1.6 CRDi SX Option        Pune  2015  ...    5.0        NaN  12.50\n",
              "2                      Honda Jazz V     Chennai  2011  ...    5.0  8.61 Lakh   4.50\n",
              "3                 Maruti Ertiga VDI     Chennai  2012  ...    7.0        NaN   6.00\n",
              "4   Audi A4 New 2.0 TDI Multitronic  Coimbatore  2013  ...    5.0        NaN  17.74\n",
              "\n",
              "[5 rows x 13 columns]"
            ]
          },
          "metadata": {
            "tags": []
          },
          "execution_count": 15
        }
      ]
    },
    {
      "cell_type": "markdown",
      "metadata": {
        "id": "GjXhYWCccarX"
      },
      "source": [
        "## Structuring & Formatting The Datasets"
      ]
    },
    {
      "cell_type": "code",
      "metadata": {
        "id": "HGT8XlW8rtC9"
      },
      "source": [
        "def restructure(data):\n",
        "  \n",
        "  names = list(data.Name)\n",
        "  \n",
        "  brand = []\n",
        "  model = []\n",
        "  \n",
        "  for i in range(len(names)):\n",
        "    try:\n",
        "      brand.append(names[i].split(\" \")[0])\n",
        "      try:\n",
        "        model.append(\" \".join(names[i].split(\" \")[1:]).strip())\n",
        "      except:\n",
        "        pass\n",
        "    except:\n",
        "        print(\"ERR ! - \", names[i], \"@\" , i)\n",
        "        \n",
        "        \n",
        "  mileage = list(data.Mileage)\n",
        "  \n",
        "  for i in range(len(mileage)):\n",
        "    try :\n",
        "      mileage[i] = float(mileage[i].split(\" \")[0].strip())\n",
        "    except:\n",
        "      mileage[i] = np.nan\n",
        "      \n",
        "      \n",
        "  engine = list(data.Engine)\n",
        "  for i in range(len(engine)):\n",
        "    try :\n",
        "      engine[i] = int(engine[i].split(\" \")[0].strip())\n",
        "    except:\n",
        "      engine[i] = np.nan\n",
        "      \n",
        "      \n",
        "  power = list(data.Power)\n",
        "  for i in range(len(power)):\n",
        "    try :\n",
        "      power[i] = float(power[i].split(\" \")[0].strip())\n",
        "    except:\n",
        "      power[i] = np.nan\n",
        "      \n",
        "  data['New_Price'].fillna(0, inplace = True)\n",
        "  \n",
        "  newp = list(data['New_Price'])\n",
        "  \n",
        "  for i in range(len(newp)):\n",
        "    if newp[i] == 0:\n",
        "      newp[i] = float(newp[i])\n",
        "      continue\n",
        "    elif 'Cr' in newp[i]:\n",
        "      newp[i] = float(newp[i].split()[0].strip()) * 100 \n",
        "    elif 'Lakh' in newp[i]:\n",
        "      newp[i] = float(newp[i].split()[0].strip())\n",
        "      \n",
        "      \n",
        "#Re-ordering the columns\n",
        "\n",
        "  restructured = pd.DataFrame({'Brand': brand,\n",
        "                              'Model':model,\n",
        "                              'Location': data['Location'], \n",
        "                              'Year':data['Year'] , \n",
        "                              'Kilometers_Driven':data['Kilometers_Driven'],\n",
        "                              'Fuel_Type':data['Fuel_Type'],\n",
        "                              'Transmission':data['Transmission'],\n",
        "                              'Owner_Type':data['Owner_Type'],\n",
        "                              'Mileage':mileage,\n",
        "                              'Engine':engine,\n",
        "                              'Power':power,\n",
        "                              'Seats':data['Seats'],\n",
        "                              'New_Price':newp\n",
        "                             })\n",
        "\n",
        "  if 'Price' in data.columns:\n",
        "    restructured['Price'] = data['Price']\n",
        "    return restructured\n",
        "\n",
        "  else:\n",
        "    return restructured"
      ],
      "execution_count": 16,
      "outputs": []
    },
    {
      "cell_type": "code",
      "metadata": {
        "id": "D2kKU52KAnlm"
      },
      "source": [
        "train_d = restructure(training_set)\n"
      ],
      "execution_count": 17,
      "outputs": []
    },
    {
      "cell_type": "markdown",
      "metadata": {
        "id": "71ilUoXycarY"
      },
      "source": [
        "### Selecting Few Features"
      ]
    },
    {
      "cell_type": "code",
      "metadata": {
        "id": "LA9RejMEOMhF"
      },
      "source": [
        "cols = ['Brand', 'Location', 'Year', 'Kilometers_Driven', 'Fuel_Type',\n",
        "       'Transmission', 'Owner_Type', 'Mileage', 'Price']"
      ],
      "execution_count": 18,
      "outputs": []
    },
    {
      "cell_type": "code",
      "metadata": {
        "id": "__7hgfYL1atI"
      },
      "source": [
        "train_d = train_d[cols]"
      ],
      "execution_count": 19,
      "outputs": []
    },
    {
      "cell_type": "code",
      "metadata": {
        "colab": {
          "base_uri": "https://localhost:8080/"
        },
        "id": "b3JX0LY63t8v",
        "outputId": "9fb9eba3-b133-4176-8e1c-89bdfbdacdb1"
      },
      "source": [
        "train_d.info()"
      ],
      "execution_count": 20,
      "outputs": [
        {
          "output_type": "stream",
          "text": [
            "<class 'pandas.core.frame.DataFrame'>\n",
            "RangeIndex: 6019 entries, 0 to 6018\n",
            "Data columns (total 9 columns):\n",
            " #   Column             Non-Null Count  Dtype  \n",
            "---  ------             --------------  -----  \n",
            " 0   Brand              6019 non-null   object \n",
            " 1   Location           6019 non-null   object \n",
            " 2   Year               6019 non-null   int64  \n",
            " 3   Kilometers_Driven  6019 non-null   int64  \n",
            " 4   Fuel_Type          6019 non-null   object \n",
            " 5   Transmission       6019 non-null   object \n",
            " 6   Owner_Type         6019 non-null   object \n",
            " 7   Mileage            6017 non-null   float64\n",
            " 8   Price              6019 non-null   float64\n",
            "dtypes: float64(2), int64(2), object(5)\n",
            "memory usage: 423.3+ KB\n"
          ],
          "name": "stdout"
        }
      ]
    },
    {
      "cell_type": "markdown",
      "metadata": {
        "id": "Jz4R89Lil2vF"
      },
      "source": [
        "## Modeling With Fast.ai\n"
      ]
    },
    {
      "cell_type": "code",
      "metadata": {
        "id": "b1axpAjKl7Oi"
      },
      "source": [
        "from fastai.tabular import *\n",
        "#This path will be used for saving and exporting the model\n",
        "path = wd"
      ],
      "execution_count": 21,
      "outputs": []
    },
    {
      "cell_type": "code",
      "metadata": {
        "id": "tQcQyVVKUc21"
      },
      "source": [
        "#The target variable that we are trying to predict\n",
        "dep_var = 'Price'\n",
        "\n",
        "#The categorical variables \n",
        "cat_names = list(train_d.select_dtypes('object').columns)\n",
        "\n",
        "#The continuous variables\n",
        "cont_names =['Year', 'Kilometers_Driven', 'Mileage'] #No need to keep the Dependend variable\n",
        "\n",
        "#Preprocessing steps for the fastai learner\n",
        "procs = [FillMissing, Categorify, Normalize]"
      ],
      "execution_count": 22,
      "outputs": []
    },
    {
      "cell_type": "code",
      "metadata": {
        "id": "hetMkktbUcy9"
      },
      "source": [
        "#Creating a validation set\n",
        "val = TabularList.from_df(train_d.iloc[800:1000].copy(), path=path, cat_names=cat_names, cont_names=cont_names)"
      ],
      "execution_count": 23,
      "outputs": []
    },
    {
      "cell_type": "code",
      "metadata": {
        "id": "UoAVDfT5UcqY"
      },
      "source": [
        "#Creating a trainig set\n",
        "data = (TabularList.from_df(train_d, path=path, cat_names=cat_names, cont_names=cont_names, procs=procs)\n",
        "                           .split_by_idx(list(range(len(train_d) - int(len(train_d) * 0.2),len(train_d))))\n",
        "                           .label_from_df(cols=dep_var)\n",
        "                           .add_test(val)\n",
        "                           .databunch())"
      ],
      "execution_count": 24,
      "outputs": []
    },
    {
      "cell_type": "code",
      "metadata": {
        "colab": {
          "base_uri": "https://localhost:8080/",
          "height": 204
        },
        "id": "vDDUdyFdw0Au",
        "outputId": "b51749f6-a242-40ca-c12a-a74d3b53be82"
      },
      "source": [
        "data.show_batch(5)"
      ],
      "execution_count": 25,
      "outputs": [
        {
          "output_type": "display_data",
          "data": {
            "text/html": [
              "<table border=\"1\" class=\"dataframe\">\n",
              "  <thead>\n",
              "    <tr style=\"text-align: right;\">\n",
              "      <th>Brand</th>\n",
              "      <th>Location</th>\n",
              "      <th>Fuel_Type</th>\n",
              "      <th>Transmission</th>\n",
              "      <th>Owner_Type</th>\n",
              "      <th>Mileage_na</th>\n",
              "      <th>Year</th>\n",
              "      <th>Kilometers_Driven</th>\n",
              "      <th>Mileage</th>\n",
              "      <th>target</th>\n",
              "    </tr>\n",
              "  </thead>\n",
              "  <tbody>\n",
              "    <tr>\n",
              "      <td>Maruti</td>\n",
              "      <td>Delhi</td>\n",
              "      <td>Petrol</td>\n",
              "      <td>Manual</td>\n",
              "      <td>First</td>\n",
              "      <td>False</td>\n",
              "      <td>0.2025</td>\n",
              "      <td>-0.0417</td>\n",
              "      <td>0.1142</td>\n",
              "      <td>4.2</td>\n",
              "    </tr>\n",
              "    <tr>\n",
              "      <td>Hyundai</td>\n",
              "      <td>Coimbatore</td>\n",
              "      <td>Petrol</td>\n",
              "      <td>Manual</td>\n",
              "      <td>First</td>\n",
              "      <td>False</td>\n",
              "      <td>0.8188</td>\n",
              "      <td>-0.3110</td>\n",
              "      <td>0.6629</td>\n",
              "      <td>3.55</td>\n",
              "    </tr>\n",
              "    <tr>\n",
              "      <td>Maruti</td>\n",
              "      <td>Kochi</td>\n",
              "      <td>Petrol</td>\n",
              "      <td>Manual</td>\n",
              "      <td>First</td>\n",
              "      <td>False</td>\n",
              "      <td>1.4350</td>\n",
              "      <td>-0.3526</td>\n",
              "      <td>0.7287</td>\n",
              "      <td>6.57</td>\n",
              "    </tr>\n",
              "    <tr>\n",
              "      <td>Honda</td>\n",
              "      <td>Kolkata</td>\n",
              "      <td>Petrol</td>\n",
              "      <td>Automatic</td>\n",
              "      <td>First</td>\n",
              "      <td>False</td>\n",
              "      <td>-0.1056</td>\n",
              "      <td>-0.2007</td>\n",
              "      <td>-0.5443</td>\n",
              "      <td>4.55</td>\n",
              "    </tr>\n",
              "    <tr>\n",
              "      <td>Toyota</td>\n",
              "      <td>Kolkata</td>\n",
              "      <td>Petrol</td>\n",
              "      <td>Automatic</td>\n",
              "      <td>First</td>\n",
              "      <td>False</td>\n",
              "      <td>1.4350</td>\n",
              "      <td>-0.5386</td>\n",
              "      <td>-0.8340</td>\n",
              "      <td>16.95</td>\n",
              "    </tr>\n",
              "  </tbody>\n",
              "</table>"
            ],
            "text/plain": [
              "<IPython.core.display.HTML object>"
            ]
          },
          "metadata": {
            "tags": []
          }
        }
      ]
    },
    {
      "cell_type": "markdown",
      "metadata": {
        "id": "Jg8DCyNBWQoP"
      },
      "source": [
        "### Initializing Neural Network"
      ]
    },
    {
      "cell_type": "code",
      "metadata": {
        "id": "AETtx1dawzzq"
      },
      "source": [
        "learn = tabular_learner(data, layers=[300,100, 100, 50], metrics= rmse)"
      ],
      "execution_count": 26,
      "outputs": []
    },
    {
      "cell_type": "markdown",
      "metadata": {
        "id": "0lsZaZX_Wc11"
      },
      "source": [
        "### Training The Model"
      ]
    },
    {
      "cell_type": "code",
      "metadata": {
        "colab": {
          "base_uri": "https://localhost:8080/",
          "height": 824
        },
        "id": "fOxMFAUiwzx0",
        "outputId": "2d6d7869-99cc-494e-b505-348212697e2d"
      },
      "source": [
        "learn.fit(25, 1e-2)"
      ],
      "execution_count": 27,
      "outputs": [
        {
          "output_type": "display_data",
          "data": {
            "text/html": [
              "<table border=\"1\" class=\"dataframe\">\n",
              "  <thead>\n",
              "    <tr style=\"text-align: left;\">\n",
              "      <th>epoch</th>\n",
              "      <th>train_loss</th>\n",
              "      <th>valid_loss</th>\n",
              "      <th>root_mean_squared_error</th>\n",
              "      <th>time</th>\n",
              "    </tr>\n",
              "  </thead>\n",
              "  <tbody>\n",
              "    <tr>\n",
              "      <td>0</td>\n",
              "      <td>56.722385</td>\n",
              "      <td>34.669807</td>\n",
              "      <td>5.180325</td>\n",
              "      <td>00:01</td>\n",
              "    </tr>\n",
              "    <tr>\n",
              "      <td>1</td>\n",
              "      <td>37.283188</td>\n",
              "      <td>45.852707</td>\n",
              "      <td>6.377563</td>\n",
              "      <td>00:01</td>\n",
              "    </tr>\n",
              "    <tr>\n",
              "      <td>2</td>\n",
              "      <td>31.620218</td>\n",
              "      <td>37.376774</td>\n",
              "      <td>5.416864</td>\n",
              "      <td>00:01</td>\n",
              "    </tr>\n",
              "    <tr>\n",
              "      <td>3</td>\n",
              "      <td>26.220377</td>\n",
              "      <td>32.587776</td>\n",
              "      <td>4.953351</td>\n",
              "      <td>00:01</td>\n",
              "    </tr>\n",
              "    <tr>\n",
              "      <td>4</td>\n",
              "      <td>25.895470</td>\n",
              "      <td>30.719851</td>\n",
              "      <td>4.850688</td>\n",
              "      <td>00:01</td>\n",
              "    </tr>\n",
              "    <tr>\n",
              "      <td>5</td>\n",
              "      <td>31.471640</td>\n",
              "      <td>33.470623</td>\n",
              "      <td>5.136633</td>\n",
              "      <td>00:01</td>\n",
              "    </tr>\n",
              "    <tr>\n",
              "      <td>6</td>\n",
              "      <td>27.325243</td>\n",
              "      <td>34.251770</td>\n",
              "      <td>5.177170</td>\n",
              "      <td>00:01</td>\n",
              "    </tr>\n",
              "    <tr>\n",
              "      <td>7</td>\n",
              "      <td>24.815571</td>\n",
              "      <td>36.427143</td>\n",
              "      <td>5.289566</td>\n",
              "      <td>00:01</td>\n",
              "    </tr>\n",
              "    <tr>\n",
              "      <td>8</td>\n",
              "      <td>26.620882</td>\n",
              "      <td>30.493164</td>\n",
              "      <td>4.807407</td>\n",
              "      <td>00:01</td>\n",
              "    </tr>\n",
              "    <tr>\n",
              "      <td>9</td>\n",
              "      <td>25.453169</td>\n",
              "      <td>32.986179</td>\n",
              "      <td>5.029118</td>\n",
              "      <td>00:01</td>\n",
              "    </tr>\n",
              "    <tr>\n",
              "      <td>10</td>\n",
              "      <td>24.552610</td>\n",
              "      <td>36.649300</td>\n",
              "      <td>5.385637</td>\n",
              "      <td>00:01</td>\n",
              "    </tr>\n",
              "    <tr>\n",
              "      <td>11</td>\n",
              "      <td>24.487577</td>\n",
              "      <td>31.789631</td>\n",
              "      <td>4.952569</td>\n",
              "      <td>00:01</td>\n",
              "    </tr>\n",
              "    <tr>\n",
              "      <td>12</td>\n",
              "      <td>24.489002</td>\n",
              "      <td>32.645809</td>\n",
              "      <td>4.960306</td>\n",
              "      <td>00:01</td>\n",
              "    </tr>\n",
              "    <tr>\n",
              "      <td>13</td>\n",
              "      <td>25.967815</td>\n",
              "      <td>32.539154</td>\n",
              "      <td>5.040356</td>\n",
              "      <td>00:01</td>\n",
              "    </tr>\n",
              "    <tr>\n",
              "      <td>14</td>\n",
              "      <td>23.825237</td>\n",
              "      <td>34.258411</td>\n",
              "      <td>5.076216</td>\n",
              "      <td>00:01</td>\n",
              "    </tr>\n",
              "    <tr>\n",
              "      <td>15</td>\n",
              "      <td>26.552610</td>\n",
              "      <td>32.225765</td>\n",
              "      <td>5.028723</td>\n",
              "      <td>00:01</td>\n",
              "    </tr>\n",
              "    <tr>\n",
              "      <td>16</td>\n",
              "      <td>25.165287</td>\n",
              "      <td>29.770164</td>\n",
              "      <td>4.718960</td>\n",
              "      <td>00:01</td>\n",
              "    </tr>\n",
              "    <tr>\n",
              "      <td>17</td>\n",
              "      <td>22.618769</td>\n",
              "      <td>29.803717</td>\n",
              "      <td>4.731196</td>\n",
              "      <td>00:01</td>\n",
              "    </tr>\n",
              "    <tr>\n",
              "      <td>18</td>\n",
              "      <td>22.608789</td>\n",
              "      <td>30.135393</td>\n",
              "      <td>4.729454</td>\n",
              "      <td>00:01</td>\n",
              "    </tr>\n",
              "    <tr>\n",
              "      <td>19</td>\n",
              "      <td>22.157379</td>\n",
              "      <td>33.382938</td>\n",
              "      <td>5.098635</td>\n",
              "      <td>00:01</td>\n",
              "    </tr>\n",
              "    <tr>\n",
              "      <td>20</td>\n",
              "      <td>21.543375</td>\n",
              "      <td>32.641930</td>\n",
              "      <td>4.978034</td>\n",
              "      <td>00:01</td>\n",
              "    </tr>\n",
              "    <tr>\n",
              "      <td>21</td>\n",
              "      <td>21.990467</td>\n",
              "      <td>33.682243</td>\n",
              "      <td>5.103302</td>\n",
              "      <td>00:01</td>\n",
              "    </tr>\n",
              "    <tr>\n",
              "      <td>22</td>\n",
              "      <td>22.699953</td>\n",
              "      <td>29.466614</td>\n",
              "      <td>4.751417</td>\n",
              "      <td>00:01</td>\n",
              "    </tr>\n",
              "    <tr>\n",
              "      <td>23</td>\n",
              "      <td>24.561083</td>\n",
              "      <td>31.106161</td>\n",
              "      <td>4.968268</td>\n",
              "      <td>00:01</td>\n",
              "    </tr>\n",
              "    <tr>\n",
              "      <td>24</td>\n",
              "      <td>24.954391</td>\n",
              "      <td>33.547722</td>\n",
              "      <td>5.103724</td>\n",
              "      <td>00:01</td>\n",
              "    </tr>\n",
              "  </tbody>\n",
              "</table>"
            ],
            "text/plain": [
              "<IPython.core.display.HTML object>"
            ]
          },
          "metadata": {
            "tags": []
          }
        }
      ]
    },
    {
      "cell_type": "code",
      "metadata": {
        "colab": {
          "base_uri": "https://localhost:8080/",
          "height": 224
        },
        "id": "40z-A8eCcarb",
        "outputId": "e5c21693-5310-491f-b2c9-f502c53393b9"
      },
      "source": [
        "learn.show_results(ds_type=DatasetType.Train)"
      ],
      "execution_count": 28,
      "outputs": [
        {
          "output_type": "display_data",
          "data": {
            "text/html": [
              "<table border=\"1\" class=\"dataframe\">\n",
              "  <thead>\n",
              "    <tr style=\"text-align: right;\">\n",
              "      <th>Brand</th>\n",
              "      <th>Location</th>\n",
              "      <th>Fuel_Type</th>\n",
              "      <th>Transmission</th>\n",
              "      <th>Owner_Type</th>\n",
              "      <th>Mileage_na</th>\n",
              "      <th>Year</th>\n",
              "      <th>Kilometers_Driven</th>\n",
              "      <th>Mileage</th>\n",
              "      <th>target</th>\n",
              "      <th>prediction</th>\n",
              "    </tr>\n",
              "  </thead>\n",
              "  <tbody>\n",
              "    <tr>\n",
              "      <td>Toyota</td>\n",
              "      <td>Mumbai</td>\n",
              "      <td>Diesel</td>\n",
              "      <td>Manual</td>\n",
              "      <td>First</td>\n",
              "      <td>False</td>\n",
              "      <td>-0.4138</td>\n",
              "      <td>0.7213</td>\n",
              "      <td>-1.1149</td>\n",
              "      <td>13.5</td>\n",
              "      <td>[9.60764]</td>\n",
              "    </tr>\n",
              "    <tr>\n",
              "      <td>Hyundai</td>\n",
              "      <td>Kolkata</td>\n",
              "      <td>Diesel</td>\n",
              "      <td>Manual</td>\n",
              "      <td>First</td>\n",
              "      <td>False</td>\n",
              "      <td>0.5106</td>\n",
              "      <td>-0.1411</td>\n",
              "      <td>0.8384</td>\n",
              "      <td>3.45</td>\n",
              "      <td>[4.952608]</td>\n",
              "    </tr>\n",
              "    <tr>\n",
              "      <td>Volkswagen</td>\n",
              "      <td>Pune</td>\n",
              "      <td>Petrol</td>\n",
              "      <td>Manual</td>\n",
              "      <td>First</td>\n",
              "      <td>False</td>\n",
              "      <td>1.4350</td>\n",
              "      <td>-0.3895</td>\n",
              "      <td>-0.2370</td>\n",
              "      <td>5.5</td>\n",
              "      <td>[5.862298]</td>\n",
              "    </tr>\n",
              "    <tr>\n",
              "      <td>Renault</td>\n",
              "      <td>Delhi</td>\n",
              "      <td>Diesel</td>\n",
              "      <td>Manual</td>\n",
              "      <td>First</td>\n",
              "      <td>False</td>\n",
              "      <td>-0.4138</td>\n",
              "      <td>0.7037</td>\n",
              "      <td>0.3424</td>\n",
              "      <td>3.75</td>\n",
              "      <td>[4.091384]</td>\n",
              "    </tr>\n",
              "    <tr>\n",
              "      <td>Volkswagen</td>\n",
              "      <td>Bangalore</td>\n",
              "      <td>Diesel</td>\n",
              "      <td>Automatic</td>\n",
              "      <td>First</td>\n",
              "      <td>False</td>\n",
              "      <td>-1.3381</td>\n",
              "      <td>0.1472</td>\n",
              "      <td>-0.5662</td>\n",
              "      <td>5.25</td>\n",
              "      <td>[5.013774]</td>\n",
              "    </tr>\n",
              "  </tbody>\n",
              "</table>"
            ],
            "text/plain": [
              "<IPython.core.display.HTML object>"
            ]
          },
          "metadata": {
            "tags": []
          }
        }
      ]
    },
    {
      "cell_type": "code",
      "metadata": {
        "scrolled": true,
        "colab": {
          "base_uri": "https://localhost:8080/",
          "height": 224
        },
        "id": "Bz1JbVtccarb",
        "outputId": "8197df53-4eeb-433e-85a6-415583214772"
      },
      "source": [
        "learn.show_results(ds_type=DatasetType.Valid)"
      ],
      "execution_count": 29,
      "outputs": [
        {
          "output_type": "display_data",
          "data": {
            "text/html": [
              "<table border=\"1\" class=\"dataframe\">\n",
              "  <thead>\n",
              "    <tr style=\"text-align: right;\">\n",
              "      <th>Brand</th>\n",
              "      <th>Location</th>\n",
              "      <th>Fuel_Type</th>\n",
              "      <th>Transmission</th>\n",
              "      <th>Owner_Type</th>\n",
              "      <th>Mileage_na</th>\n",
              "      <th>Year</th>\n",
              "      <th>Kilometers_Driven</th>\n",
              "      <th>Mileage</th>\n",
              "      <th>target</th>\n",
              "      <th>prediction</th>\n",
              "    </tr>\n",
              "  </thead>\n",
              "  <tbody>\n",
              "    <tr>\n",
              "      <td>BMW</td>\n",
              "      <td>Delhi</td>\n",
              "      <td>Petrol</td>\n",
              "      <td>Automatic</td>\n",
              "      <td>Second</td>\n",
              "      <td>False</td>\n",
              "      <td>-2.2625</td>\n",
              "      <td>-0.1112</td>\n",
              "      <td>-1.4178</td>\n",
              "      <td>6.99</td>\n",
              "      <td>[7.959209]</td>\n",
              "    </tr>\n",
              "    <tr>\n",
              "      <td>Hyundai</td>\n",
              "      <td>Coimbatore</td>\n",
              "      <td>Diesel</td>\n",
              "      <td>Manual</td>\n",
              "      <td>First</td>\n",
              "      <td>False</td>\n",
              "      <td>1.7431</td>\n",
              "      <td>-0.1722</td>\n",
              "      <td>1.0140</td>\n",
              "      <td>15.57</td>\n",
              "      <td>[10.255191]</td>\n",
              "    </tr>\n",
              "    <tr>\n",
              "      <td>Tata</td>\n",
              "      <td>Coimbatore</td>\n",
              "      <td>Diesel</td>\n",
              "      <td>Manual</td>\n",
              "      <td>First</td>\n",
              "      <td>False</td>\n",
              "      <td>0.5106</td>\n",
              "      <td>0.2558</td>\n",
              "      <td>-0.6101</td>\n",
              "      <td>5.29</td>\n",
              "      <td>[7.115001]</td>\n",
              "    </tr>\n",
              "    <tr>\n",
              "      <td>Datsun</td>\n",
              "      <td>Kolkata</td>\n",
              "      <td>Petrol</td>\n",
              "      <td>Manual</td>\n",
              "      <td>First</td>\n",
              "      <td>False</td>\n",
              "      <td>0.8188</td>\n",
              "      <td>-0.4392</td>\n",
              "      <td>1.0140</td>\n",
              "      <td>2.25</td>\n",
              "      <td>[1.866148]</td>\n",
              "    </tr>\n",
              "    <tr>\n",
              "      <td>BMW</td>\n",
              "      <td>Chennai</td>\n",
              "      <td>Diesel</td>\n",
              "      <td>Automatic</td>\n",
              "      <td>First</td>\n",
              "      <td>False</td>\n",
              "      <td>-1.3381</td>\n",
              "      <td>0.5049</td>\n",
              "      <td>-1.4002</td>\n",
              "      <td>20.0</td>\n",
              "      <td>[12.028448]</td>\n",
              "    </tr>\n",
              "  </tbody>\n",
              "</table>"
            ],
            "text/plain": [
              "<IPython.core.display.HTML object>"
            ]
          },
          "metadata": {
            "tags": []
          }
        }
      ]
    },
    {
      "cell_type": "markdown",
      "metadata": {
        "id": "-Gj5Xgkycarc"
      },
      "source": [
        "## Saving & Exporting The Model"
      ]
    },
    {
      "cell_type": "code",
      "metadata": {
        "colab": {
          "base_uri": "https://localhost:8080/"
        },
        "id": "IEtGmv6Wh7T4",
        "outputId": "2b016d34-caa6-40c3-fbec-1d7810e7749e"
      },
      "source": [
        "learn.save('model',return_path=True)"
      ],
      "execution_count": 30,
      "outputs": [
        {
          "output_type": "execute_result",
          "data": {
            "text/plain": [
              "PosixPath('/content/models/model.pth')"
            ]
          },
          "metadata": {
            "tags": []
          },
          "execution_count": 30
        }
      ]
    },
    {
      "cell_type": "code",
      "metadata": {
        "id": "Pz2rMhp9mbdT"
      },
      "source": [
        "learn.export('model.pkl')"
      ],
      "execution_count": 31,
      "outputs": []
    },
    {
      "cell_type": "code",
      "metadata": {
        "id": "xwzStHpxcoPn"
      },
      "source": [
        "model = load_learner(path, 'model.pkl')"
      ],
      "execution_count": 33,
      "outputs": []
    }
  ]
}