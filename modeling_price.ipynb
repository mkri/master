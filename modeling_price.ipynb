{
  "nbformat": 4,
  "nbformat_minor": 0,
  "metadata": {
    "colab": {
      "name": "modeling.ipynb",
      "provenance": [],
      "include_colab_link": true
    },
    "kernelspec": {
      "display_name": "Python 3",
      "language": "python",
      "name": "python3"
    },
    "language_info": {
      "codemirror_mode": {
        "name": "ipython",
        "version": 3
      },
      "file_extension": ".py",
      "mimetype": "text/x-python",
      "name": "python",
      "nbconvert_exporter": "python",
      "pygments_lexer": "ipython3",
      "version": "3.7.4"
    }
  },
  "cells": [
    {
      "cell_type": "markdown",
      "metadata": {
        "id": "view-in-github",
        "colab_type": "text"
      },
      "source": [
        "<a href=\"https://colab.research.google.com/github/mkri/master/blob/master/modeling_price.ipynb\" target=\"_parent\"><img src=\"https://colab.research.google.com/assets/colab-badge.svg\" alt=\"Open In Colab\"/></a>"
      ]
    },
    {
      "cell_type": "markdown",
      "metadata": {
        "id": "1b6Akcf-carM"
      },
      "source": [
        "# Building FastAi Model"
      ]
    },
    {
      "cell_type": "code",
      "metadata": {
        "id": "VoodwCcjcarT"
      },
      "source": [
        "#Printing thw working directory\n",
        "import os\n",
        "wd = os.getcwd()"
      ],
      "execution_count": 1,
      "outputs": []
    },
    {
      "cell_type": "code",
      "metadata": {
        "colab": {
          "base_uri": "https://localhost:8080/",
          "height": 35
        },
        "id": "dNOMLJdOcarU",
        "outputId": "0ef9e389-b719-46d9-f852-5766808e2c58"
      },
      "source": [
        "wd"
      ],
      "execution_count": 2,
      "outputs": [
        {
          "output_type": "execute_result",
          "data": {
            "application/vnd.google.colaboratory.intrinsic+json": {
              "type": "string"
            },
            "text/plain": [
              "'/content'"
            ]
          },
          "metadata": {
            "tags": []
          },
          "execution_count": 2
        }
      ]
    },
    {
      "cell_type": "code",
      "metadata": {
        "id": "JKx52wNHcarV"
      },
      "source": [
        "# Setting The Home Directory for the project\n",
        "home_dir = wd[:-7]"
      ],
      "execution_count": 3,
      "outputs": []
    },
    {
      "cell_type": "code",
      "metadata": {
        "colab": {
          "base_uri": "https://localhost:8080/",
          "height": 35
        },
        "id": "fCs9L7rkcarV",
        "outputId": "97eb9f0d-1fbf-408d-b337-3641f8322847"
      },
      "source": [
        "home_dir"
      ],
      "execution_count": 4,
      "outputs": [
        {
          "output_type": "execute_result",
          "data": {
            "application/vnd.google.colaboratory.intrinsic+json": {
              "type": "string"
            },
            "text/plain": [
              "'/'"
            ]
          },
          "metadata": {
            "tags": []
          },
          "execution_count": 4
        }
      ]
    },
    {
      "cell_type": "code",
      "metadata": {
        "colab": {
          "base_uri": "https://localhost:8080/"
        },
        "id": "YJfKELakcarW",
        "outputId": "a6e19d1a-c50a-415a-8636-45d79e7a8c47"
      },
      "source": [
        "#Listing the home directory and working directory contents\n",
        "print('HOME DIRECTORY')\n",
        "print(os.listdir(home_dir))\n",
        "print('WORKING DIRECTORY')\n",
        "print(os.listdir(wd))"
      ],
      "execution_count": 5,
      "outputs": [
        {
          "output_type": "stream",
          "text": [
            "HOME DIRECTORY\n",
            "['run', 'proc', 'lib', 'srv', 'root', 'sys', 'var', 'media', 'sbin', 'mnt', 'etc', 'boot', 'opt', 'home', 'bin', 'tmp', 'usr', 'lib64', 'dev', 'content', '.dockerenv', 'datalab', 'tools', 'swift', 'tensorflow-1.15.2', 'lib32']\n",
            "WORKING DIRECTORY\n",
            "['.config', 'datafileNew.csv', 'sample_data']\n"
          ],
          "name": "stdout"
        }
      ]
    },
    {
      "cell_type": "markdown",
      "metadata": {
        "id": "NW-oSIVacarW"
      },
      "source": [
        "## Loading The Datasets"
      ]
    },
    {
      "cell_type": "code",
      "metadata": {
        "id": "y0mIWjyrdrpy"
      },
      "source": [
        "import pandas as pd\n",
        "import numpy as np\n",
        "training_set = pd.read_csv(wd+'/datafileNew.csv')"
      ],
      "execution_count": 7,
      "outputs": []
    },
    {
      "cell_type": "code",
      "metadata": {
        "colab": {
          "base_uri": "https://localhost:8080/",
          "height": 204
        },
        "id": "vSEa6kilqvMF",
        "outputId": "d82b2808-2d3d-48d3-be32-518698b35a75"
      },
      "source": [
        "training_set.head(5)"
      ],
      "execution_count": 8,
      "outputs": [
        {
          "output_type": "execute_result",
          "data": {
            "text/html": [
              "<div>\n",
              "<style scoped>\n",
              "    .dataframe tbody tr th:only-of-type {\n",
              "        vertical-align: middle;\n",
              "    }\n",
              "\n",
              "    .dataframe tbody tr th {\n",
              "        vertical-align: top;\n",
              "    }\n",
              "\n",
              "    .dataframe thead th {\n",
              "        text-align: right;\n",
              "    }\n",
              "</style>\n",
              "<table border=\"1\" class=\"dataframe\">\n",
              "  <thead>\n",
              "    <tr style=\"text-align: right;\">\n",
              "      <th></th>\n",
              "      <th>Crop</th>\n",
              "      <th>Year</th>\n",
              "      <th>Month</th>\n",
              "      <th>Price</th>\n",
              "      <th>Location</th>\n",
              "    </tr>\n",
              "  </thead>\n",
              "  <tbody>\n",
              "    <tr>\n",
              "      <th>0</th>\n",
              "      <td>Rice</td>\n",
              "      <td>2020</td>\n",
              "      <td>Jan</td>\n",
              "      <td>1.80</td>\n",
              "      <td>Mumbai</td>\n",
              "    </tr>\n",
              "    <tr>\n",
              "      <th>1</th>\n",
              "      <td>Wheat</td>\n",
              "      <td>2020</td>\n",
              "      <td>Feb</td>\n",
              "      <td>1.20</td>\n",
              "      <td>Pune</td>\n",
              "    </tr>\n",
              "    <tr>\n",
              "      <th>2</th>\n",
              "      <td>Coarse Cereals</td>\n",
              "      <td>2020</td>\n",
              "      <td>Mar</td>\n",
              "      <td>1.60</td>\n",
              "      <td>Chennai</td>\n",
              "    </tr>\n",
              "    <tr>\n",
              "      <th>3</th>\n",
              "      <td>Pulses</td>\n",
              "      <td>2020</td>\n",
              "      <td>Apr</td>\n",
              "      <td>0.98</td>\n",
              "      <td>Chennai</td>\n",
              "    </tr>\n",
              "    <tr>\n",
              "      <th>4</th>\n",
              "      <td>Vegetables</td>\n",
              "      <td>2020</td>\n",
              "      <td>May</td>\n",
              "      <td>1.60</td>\n",
              "      <td>Coimbatore</td>\n",
              "    </tr>\n",
              "  </tbody>\n",
              "</table>\n",
              "</div>"
            ],
            "text/plain": [
              "             Crop  Year Month  Price    Location\n",
              "0            Rice  2020   Jan   1.80      Mumbai\n",
              "1           Wheat  2020   Feb   1.20        Pune\n",
              "2  Coarse Cereals  2020   Mar   1.60     Chennai\n",
              "3          Pulses  2020   Apr   0.98     Chennai\n",
              "4     Vegetables   2020   May   1.60  Coimbatore"
            ]
          },
          "metadata": {
            "tags": []
          },
          "execution_count": 8
        }
      ]
    },
    {
      "cell_type": "markdown",
      "metadata": {
        "id": "71ilUoXycarY"
      },
      "source": [
        "### Selecting Few Features"
      ]
    },
    {
      "cell_type": "code",
      "metadata": {
        "id": "LA9RejMEOMhF"
      },
      "source": [
        "cols = ['Crop', 'Year', 'Month', 'Price',\n",
        "       'Location']"
      ],
      "execution_count": 9,
      "outputs": []
    },
    {
      "cell_type": "code",
      "metadata": {
        "id": "__7hgfYL1atI"
      },
      "source": [
        "train_d = training_set[cols]"
      ],
      "execution_count": 11,
      "outputs": []
    },
    {
      "cell_type": "code",
      "metadata": {
        "colab": {
          "base_uri": "https://localhost:8080/"
        },
        "id": "b3JX0LY63t8v",
        "outputId": "2369ca7c-4b1b-4093-87df-414eff1f00ca"
      },
      "source": [
        "train_d.info()"
      ],
      "execution_count": 12,
      "outputs": [
        {
          "output_type": "stream",
          "text": [
            "<class 'pandas.core.frame.DataFrame'>\n",
            "RangeIndex: 179 entries, 0 to 178\n",
            "Data columns (total 5 columns):\n",
            " #   Column    Non-Null Count  Dtype  \n",
            "---  ------    --------------  -----  \n",
            " 0   Crop      179 non-null    object \n",
            " 1   Year      179 non-null    int64  \n",
            " 2   Month     179 non-null    object \n",
            " 3   Price     179 non-null    float64\n",
            " 4   Location  179 non-null    object \n",
            "dtypes: float64(1), int64(1), object(3)\n",
            "memory usage: 7.1+ KB\n"
          ],
          "name": "stdout"
        }
      ]
    },
    {
      "cell_type": "markdown",
      "metadata": {
        "id": "Jz4R89Lil2vF"
      },
      "source": [
        "## Modeling With Fast.ai\n"
      ]
    },
    {
      "cell_type": "code",
      "metadata": {
        "id": "b1axpAjKl7Oi"
      },
      "source": [
        "from fastai.tabular import *\n",
        "#This path will be used for saving and exporting the model\n",
        "path = wd"
      ],
      "execution_count": 14,
      "outputs": []
    },
    {
      "cell_type": "code",
      "metadata": {
        "id": "tQcQyVVKUc21"
      },
      "source": [
        "#The target variable that we are trying to predict\n",
        "dep_var = 'Price'\n",
        "\n",
        "#The categorical variables \n",
        "cat_names = list(train_d.select_dtypes('object').columns)\n",
        "\n",
        "#The continuous variables\n",
        "cont_names =[] #No need to keep the Dependend variable\n",
        "\n",
        "#Preprocessing steps for the fastai learner\n",
        "procs = [FillMissing, Categorify, Normalize]"
      ],
      "execution_count": 15,
      "outputs": []
    },
    {
      "cell_type": "code",
      "metadata": {
        "id": "hetMkktbUcy9"
      },
      "source": [
        "#Creating a validation set\n",
        "val = TabularList.from_df(train_d.iloc[800:1000].copy(), path=path, cat_names=cat_names, cont_names=cont_names)"
      ],
      "execution_count": 16,
      "outputs": []
    },
    {
      "cell_type": "code",
      "metadata": {
        "id": "UoAVDfT5UcqY"
      },
      "source": [
        "#Creating a trainig set\n",
        "data = (TabularList.from_df(train_d, path=path, cat_names=cat_names, cont_names=cont_names, procs=procs)\n",
        "                           .split_by_idx(list(range(len(train_d) - int(len(train_d) * 0.2),len(train_d))))\n",
        "                           .label_from_df(cols=dep_var)\n",
        "                           .add_test(val)\n",
        "                           .databunch())"
      ],
      "execution_count": 17,
      "outputs": []
    },
    {
      "cell_type": "code",
      "metadata": {
        "colab": {
          "base_uri": "https://localhost:8080/",
          "height": 204
        },
        "id": "vDDUdyFdw0Au",
        "outputId": "45dc6a62-ea86-4988-fa39-2ebebd5e5c72"
      },
      "source": [
        "data.show_batch(5)"
      ],
      "execution_count": 18,
      "outputs": [
        {
          "output_type": "display_data",
          "data": {
            "text/html": [
              "<table border=\"1\" class=\"dataframe\">\n",
              "  <thead>\n",
              "    <tr style=\"text-align: right;\">\n",
              "      <th>Crop</th>\n",
              "      <th>Month</th>\n",
              "      <th>Location</th>\n",
              "      <th>target</th>\n",
              "    </tr>\n",
              "  </thead>\n",
              "  <tbody>\n",
              "    <tr>\n",
              "      <td>Coarse Cereals</td>\n",
              "      <td>Mar</td>\n",
              "      <td>Pune</td>\n",
              "      <td>1.8</td>\n",
              "    </tr>\n",
              "    <tr>\n",
              "      <td>Wheat</td>\n",
              "      <td>Dec</td>\n",
              "      <td>Coimbatore</td>\n",
              "      <td>2.0</td>\n",
              "    </tr>\n",
              "    <tr>\n",
              "      <td>All Agriculture</td>\n",
              "      <td>Jan</td>\n",
              "      <td>Jaipur</td>\n",
              "      <td>2.35</td>\n",
              "    </tr>\n",
              "    <tr>\n",
              "      <td>Sugarcane</td>\n",
              "      <td>Dec</td>\n",
              "      <td>Mumbai</td>\n",
              "      <td>4.0</td>\n",
              "    </tr>\n",
              "    <tr>\n",
              "      <td>Fruits</td>\n",
              "      <td>Aug</td>\n",
              "      <td>Kolkata</td>\n",
              "      <td>2.35</td>\n",
              "    </tr>\n",
              "  </tbody>\n",
              "</table>"
            ],
            "text/plain": [
              "<IPython.core.display.HTML object>"
            ]
          },
          "metadata": {
            "tags": []
          }
        }
      ]
    },
    {
      "cell_type": "markdown",
      "metadata": {
        "id": "Jg8DCyNBWQoP"
      },
      "source": [
        "### Initializing Neural Network"
      ]
    },
    {
      "cell_type": "code",
      "metadata": {
        "id": "AETtx1dawzzq"
      },
      "source": [
        "learn = tabular_learner(data, layers=[300,100, 100, 50], metrics= rmse)"
      ],
      "execution_count": 19,
      "outputs": []
    },
    {
      "cell_type": "markdown",
      "metadata": {
        "id": "0lsZaZX_Wc11"
      },
      "source": [
        "### Training The Model"
      ]
    },
    {
      "cell_type": "code",
      "metadata": {
        "colab": {
          "base_uri": "https://localhost:8080/",
          "height": 824
        },
        "id": "fOxMFAUiwzx0",
        "outputId": "0773d4cd-9add-4fff-a993-24c9e2034165"
      },
      "source": [
        "learn.fit(25, 1e-2)"
      ],
      "execution_count": 20,
      "outputs": [
        {
          "output_type": "display_data",
          "data": {
            "text/html": [
              "<table border=\"1\" class=\"dataframe\">\n",
              "  <thead>\n",
              "    <tr style=\"text-align: left;\">\n",
              "      <th>epoch</th>\n",
              "      <th>train_loss</th>\n",
              "      <th>valid_loss</th>\n",
              "      <th>root_mean_squared_error</th>\n",
              "      <th>time</th>\n",
              "    </tr>\n",
              "  </thead>\n",
              "  <tbody>\n",
              "    <tr>\n",
              "      <td>0</td>\n",
              "      <td>8.300830</td>\n",
              "      <td>7.510220</td>\n",
              "      <td>2.740478</td>\n",
              "      <td>00:00</td>\n",
              "    </tr>\n",
              "    <tr>\n",
              "      <td>1</td>\n",
              "      <td>8.146402</td>\n",
              "      <td>7.109219</td>\n",
              "      <td>2.666312</td>\n",
              "      <td>00:00</td>\n",
              "    </tr>\n",
              "    <tr>\n",
              "      <td>2</td>\n",
              "      <td>7.727511</td>\n",
              "      <td>6.622099</td>\n",
              "      <td>2.573344</td>\n",
              "      <td>00:00</td>\n",
              "    </tr>\n",
              "    <tr>\n",
              "      <td>3</td>\n",
              "      <td>7.320852</td>\n",
              "      <td>6.160753</td>\n",
              "      <td>2.482086</td>\n",
              "      <td>00:00</td>\n",
              "    </tr>\n",
              "    <tr>\n",
              "      <td>4</td>\n",
              "      <td>6.925292</td>\n",
              "      <td>5.732238</td>\n",
              "      <td>2.394209</td>\n",
              "      <td>00:00</td>\n",
              "    </tr>\n",
              "    <tr>\n",
              "      <td>5</td>\n",
              "      <td>6.547284</td>\n",
              "      <td>5.177146</td>\n",
              "      <td>2.275334</td>\n",
              "      <td>00:00</td>\n",
              "    </tr>\n",
              "    <tr>\n",
              "      <td>6</td>\n",
              "      <td>6.177205</td>\n",
              "      <td>4.743225</td>\n",
              "      <td>2.177895</td>\n",
              "      <td>00:00</td>\n",
              "    </tr>\n",
              "    <tr>\n",
              "      <td>7</td>\n",
              "      <td>5.758797</td>\n",
              "      <td>4.245255</td>\n",
              "      <td>2.060402</td>\n",
              "      <td>00:00</td>\n",
              "    </tr>\n",
              "    <tr>\n",
              "      <td>8</td>\n",
              "      <td>5.379653</td>\n",
              "      <td>3.016415</td>\n",
              "      <td>1.736783</td>\n",
              "      <td>00:00</td>\n",
              "    </tr>\n",
              "    <tr>\n",
              "      <td>9</td>\n",
              "      <td>4.987915</td>\n",
              "      <td>2.150951</td>\n",
              "      <td>1.466612</td>\n",
              "      <td>00:00</td>\n",
              "    </tr>\n",
              "    <tr>\n",
              "      <td>10</td>\n",
              "      <td>4.589896</td>\n",
              "      <td>1.841442</td>\n",
              "      <td>1.356997</td>\n",
              "      <td>00:00</td>\n",
              "    </tr>\n",
              "    <tr>\n",
              "      <td>11</td>\n",
              "      <td>4.195220</td>\n",
              "      <td>1.525336</td>\n",
              "      <td>1.235045</td>\n",
              "      <td>00:00</td>\n",
              "    </tr>\n",
              "    <tr>\n",
              "      <td>12</td>\n",
              "      <td>3.855766</td>\n",
              "      <td>1.539901</td>\n",
              "      <td>1.240927</td>\n",
              "      <td>00:00</td>\n",
              "    </tr>\n",
              "    <tr>\n",
              "      <td>13</td>\n",
              "      <td>3.538908</td>\n",
              "      <td>1.788506</td>\n",
              "      <td>1.337350</td>\n",
              "      <td>00:00</td>\n",
              "    </tr>\n",
              "    <tr>\n",
              "      <td>14</td>\n",
              "      <td>3.252233</td>\n",
              "      <td>2.441439</td>\n",
              "      <td>1.562511</td>\n",
              "      <td>00:00</td>\n",
              "    </tr>\n",
              "    <tr>\n",
              "      <td>15</td>\n",
              "      <td>3.017478</td>\n",
              "      <td>2.363444</td>\n",
              "      <td>1.537350</td>\n",
              "      <td>00:00</td>\n",
              "    </tr>\n",
              "    <tr>\n",
              "      <td>16</td>\n",
              "      <td>2.819720</td>\n",
              "      <td>2.241056</td>\n",
              "      <td>1.497016</td>\n",
              "      <td>00:00</td>\n",
              "    </tr>\n",
              "    <tr>\n",
              "      <td>17</td>\n",
              "      <td>2.656748</td>\n",
              "      <td>2.125082</td>\n",
              "      <td>1.457766</td>\n",
              "      <td>00:00</td>\n",
              "    </tr>\n",
              "    <tr>\n",
              "      <td>18</td>\n",
              "      <td>2.499492</td>\n",
              "      <td>1.748297</td>\n",
              "      <td>1.322232</td>\n",
              "      <td>00:00</td>\n",
              "    </tr>\n",
              "    <tr>\n",
              "      <td>19</td>\n",
              "      <td>2.351805</td>\n",
              "      <td>1.473999</td>\n",
              "      <td>1.214084</td>\n",
              "      <td>00:00</td>\n",
              "    </tr>\n",
              "    <tr>\n",
              "      <td>20</td>\n",
              "      <td>2.207904</td>\n",
              "      <td>1.449216</td>\n",
              "      <td>1.203834</td>\n",
              "      <td>00:00</td>\n",
              "    </tr>\n",
              "    <tr>\n",
              "      <td>21</td>\n",
              "      <td>2.071277</td>\n",
              "      <td>1.511237</td>\n",
              "      <td>1.229324</td>\n",
              "      <td>00:00</td>\n",
              "    </tr>\n",
              "    <tr>\n",
              "      <td>22</td>\n",
              "      <td>1.953231</td>\n",
              "      <td>1.528224</td>\n",
              "      <td>1.236213</td>\n",
              "      <td>00:00</td>\n",
              "    </tr>\n",
              "    <tr>\n",
              "      <td>23</td>\n",
              "      <td>1.838073</td>\n",
              "      <td>1.496019</td>\n",
              "      <td>1.223119</td>\n",
              "      <td>00:00</td>\n",
              "    </tr>\n",
              "    <tr>\n",
              "      <td>24</td>\n",
              "      <td>1.736194</td>\n",
              "      <td>1.468070</td>\n",
              "      <td>1.211640</td>\n",
              "      <td>00:00</td>\n",
              "    </tr>\n",
              "  </tbody>\n",
              "</table>"
            ],
            "text/plain": [
              "<IPython.core.display.HTML object>"
            ]
          },
          "metadata": {
            "tags": []
          }
        }
      ]
    },
    {
      "cell_type": "code",
      "metadata": {
        "colab": {
          "base_uri": "https://localhost:8080/",
          "height": 204
        },
        "id": "40z-A8eCcarb",
        "outputId": "25be9aa8-1f09-481c-8754-847d3a56aad2"
      },
      "source": [
        "learn.show_results(ds_type=DatasetType.Train)"
      ],
      "execution_count": 21,
      "outputs": [
        {
          "output_type": "display_data",
          "data": {
            "text/html": [
              "<table border=\"1\" class=\"dataframe\">\n",
              "  <thead>\n",
              "    <tr style=\"text-align: right;\">\n",
              "      <th>Crop</th>\n",
              "      <th>Month</th>\n",
              "      <th>Location</th>\n",
              "      <th>target</th>\n",
              "      <th>prediction</th>\n",
              "    </tr>\n",
              "  </thead>\n",
              "  <tbody>\n",
              "    <tr>\n",
              "      <td>Sugarcane</td>\n",
              "      <td>Feb</td>\n",
              "      <td>Pune</td>\n",
              "      <td>1.98</td>\n",
              "      <td>[1.722399]</td>\n",
              "    </tr>\n",
              "    <tr>\n",
              "      <td>Eggs, Fish and Meat</td>\n",
              "      <td>Oct</td>\n",
              "      <td>Hyderabad</td>\n",
              "      <td>4.5</td>\n",
              "      <td>[2.727291]</td>\n",
              "    </tr>\n",
              "    <tr>\n",
              "      <td>Vegetables</td>\n",
              "      <td>Oct</td>\n",
              "      <td>Mumbai</td>\n",
              "      <td>1.6</td>\n",
              "      <td>[1.682112]</td>\n",
              "    </tr>\n",
              "    <tr>\n",
              "      <td>Milk</td>\n",
              "      <td>Aug</td>\n",
              "      <td>Kochi</td>\n",
              "      <td>1.6</td>\n",
              "      <td>[1.70914]</td>\n",
              "    </tr>\n",
              "    <tr>\n",
              "      <td>Eggs, Fish and Meat</td>\n",
              "      <td>May</td>\n",
              "      <td>Hyderabad</td>\n",
              "      <td>4.0</td>\n",
              "      <td>[2.524937]</td>\n",
              "    </tr>\n",
              "  </tbody>\n",
              "</table>"
            ],
            "text/plain": [
              "<IPython.core.display.HTML object>"
            ]
          },
          "metadata": {
            "tags": []
          }
        }
      ]
    },
    {
      "cell_type": "code",
      "metadata": {
        "scrolled": true,
        "colab": {
          "base_uri": "https://localhost:8080/",
          "height": 204
        },
        "id": "Bz1JbVtccarb",
        "outputId": "793043a8-e2ef-4504-c81d-36942b3d2d30"
      },
      "source": [
        "learn.show_results(ds_type=DatasetType.Valid)"
      ],
      "execution_count": 23,
      "outputs": [
        {
          "output_type": "display_data",
          "data": {
            "text/html": [
              "<table border=\"1\" class=\"dataframe\">\n",
              "  <thead>\n",
              "    <tr style=\"text-align: right;\">\n",
              "      <th>Crop</th>\n",
              "      <th>Month</th>\n",
              "      <th>Location</th>\n",
              "      <th>target</th>\n",
              "      <th>prediction</th>\n",
              "    </tr>\n",
              "  </thead>\n",
              "  <tbody>\n",
              "    <tr>\n",
              "      <td>Oilseeds</td>\n",
              "      <td>Jan</td>\n",
              "      <td>Chennai</td>\n",
              "      <td>1.7</td>\n",
              "      <td>[2.556709]</td>\n",
              "    </tr>\n",
              "    <tr>\n",
              "      <td>Sugarcane</td>\n",
              "      <td>Feb</td>\n",
              "      <td>Kochi</td>\n",
              "      <td>2.0</td>\n",
              "      <td>[2.022837]</td>\n",
              "    </tr>\n",
              "    <tr>\n",
              "      <td>Fibers</td>\n",
              "      <td>Mar</td>\n",
              "      <td>Kolkata</td>\n",
              "      <td>2.35</td>\n",
              "      <td>[2.842332]</td>\n",
              "    </tr>\n",
              "    <tr>\n",
              "      <td>All Agriculture</td>\n",
              "      <td>Apr</td>\n",
              "      <td>Chennai</td>\n",
              "      <td>6.0</td>\n",
              "      <td>[3.034599]</td>\n",
              "    </tr>\n",
              "    <tr>\n",
              "      <td>Wheat</td>\n",
              "      <td>May</td>\n",
              "      <td>Coimbatore</td>\n",
              "      <td>1.8</td>\n",
              "      <td>[1.898244]</td>\n",
              "    </tr>\n",
              "  </tbody>\n",
              "</table>"
            ],
            "text/plain": [
              "<IPython.core.display.HTML object>"
            ]
          },
          "metadata": {
            "tags": []
          }
        }
      ]
    },
    {
      "cell_type": "markdown",
      "metadata": {
        "id": "-Gj5Xgkycarc"
      },
      "source": [
        "## Saving & Exporting The Model"
      ]
    },
    {
      "cell_type": "code",
      "metadata": {
        "colab": {
          "base_uri": "https://localhost:8080/"
        },
        "id": "IEtGmv6Wh7T4",
        "outputId": "4c4e5968-2e73-4aaa-8eb5-7f5aa0c5353e"
      },
      "source": [
        "learn.save('model',return_path=True)"
      ],
      "execution_count": 24,
      "outputs": [
        {
          "output_type": "execute_result",
          "data": {
            "text/plain": [
              "PosixPath('/content/models/model.pth')"
            ]
          },
          "metadata": {
            "tags": []
          },
          "execution_count": 24
        }
      ]
    },
    {
      "cell_type": "code",
      "metadata": {
        "id": "Pz2rMhp9mbdT"
      },
      "source": [
        "learn.export('model.pkl')"
      ],
      "execution_count": 25,
      "outputs": []
    }
  ]
}