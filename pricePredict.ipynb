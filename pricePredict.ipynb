{
  "nbformat": 4,
  "nbformat_minor": 0,
  "metadata": {
    "colab": {
      "name": "pricePredict.ipynb",
      "provenance": [],
      "authorship_tag": "ABX9TyOBGqYh8hg9PFxg4Qa1ye6h",
      "include_colab_link": true
    },
    "kernelspec": {
      "name": "python3",
      "display_name": "Python 3"
    }
  },
  "cells": [
    {
      "cell_type": "markdown",
      "metadata": {
        "id": "view-in-github",
        "colab_type": "text"
      },
      "source": [
        "<a href=\"https://colab.research.google.com/github/mkri/master/blob/master/pricePredict.ipynb\" target=\"_parent\"><img src=\"https://colab.research.google.com/assets/colab-badge.svg\" alt=\"Open In Colab\"/></a>"
      ]
    },
    {
      "cell_type": "code",
      "metadata": {
        "id": "7JD_zRff3wbb"
      },
      "source": [
        "import pandas as pd\r\n",
        "from pandas import read_csv\r\n",
        "from pandas import datetime\r\n",
        "from pandas import DataFrame\r\n",
        "import matplotlib.pyplot as plt"
      ],
      "execution_count": 40,
      "outputs": []
    },
    {
      "cell_type": "code",
      "metadata": {
        "id": "moDupeVf3z9a"
      },
      "source": [
        "def parser(x):\r\n",
        "  return datetime.strptime('202'+x, '%Y-%m')"
      ],
      "execution_count": 41,
      "outputs": []
    },
    {
      "cell_type": "code",
      "metadata": {
        "colab": {
          "base_uri": "https://localhost:8080/"
        },
        "id": "VXSSYa5932AP",
        "outputId": "038ff22d-06c0-4282-be24-57c56a805f44"
      },
      "source": [
        "series = read_csv('/content/datafileN.csv', header=0, parse_dates=[0],  squeeze=True, date_parser=parser)"
      ],
      "execution_count": 42,
      "outputs": [
        {
          "output_type": "stream",
          "text": [
            "/usr/local/lib/python3.6/dist-packages/ipykernel_launcher.py:2: FutureWarning: The pandas.datetime class is deprecated and will be removed from pandas in a future version. Import from datetime instead.\n",
            "  \n"
          ],
          "name": "stderr"
        }
      ]
    },
    {
      "cell_type": "code",
      "metadata": {
        "colab": {
          "base_uri": "https://localhost:8080/",
          "height": 450
        },
        "id": "tdL_ZWXr4B7M",
        "outputId": "f36bd0a9-01a6-4f01-d6b2-60305d0ff0c6"
      },
      "source": [
        "series"
      ],
      "execution_count": 43,
      "outputs": [
        {
          "output_type": "execute_result",
          "data": {
            "text/html": [
              "<div>\n",
              "<style scoped>\n",
              "    .dataframe tbody tr th:only-of-type {\n",
              "        vertical-align: middle;\n",
              "    }\n",
              "\n",
              "    .dataframe tbody tr th {\n",
              "        vertical-align: top;\n",
              "    }\n",
              "\n",
              "    .dataframe thead th {\n",
              "        text-align: right;\n",
              "    }\n",
              "</style>\n",
              "<table border=\"1\" class=\"dataframe\">\n",
              "  <thead>\n",
              "    <tr style=\"text-align: right;\">\n",
              "      <th></th>\n",
              "      <th>Crop</th>\n",
              "      <th>Rice</th>\n",
              "      <th>Wheat</th>\n",
              "      <th>Coarse Cereals</th>\n",
              "      <th>Pulses</th>\n",
              "      <th>Vegetables</th>\n",
              "      <th>Fruits</th>\n",
              "      <th>Milk</th>\n",
              "      <th>Eggs, Fish and Meat</th>\n",
              "      <th>Oilseeds</th>\n",
              "      <th>Sugarcane</th>\n",
              "      <th>Fibers</th>\n",
              "      <th>All Agriculture</th>\n",
              "    </tr>\n",
              "  </thead>\n",
              "  <tbody>\n",
              "    <tr>\n",
              "      <th>0</th>\n",
              "      <td>2021-05-01</td>\n",
              "      <td>100</td>\n",
              "      <td>100</td>\n",
              "      <td>100</td>\n",
              "      <td>100</td>\n",
              "      <td>100</td>\n",
              "      <td>100</td>\n",
              "      <td>100</td>\n",
              "      <td>100</td>\n",
              "      <td>100</td>\n",
              "      <td>100</td>\n",
              "      <td>100</td>\n",
              "      <td>100</td>\n",
              "    </tr>\n",
              "    <tr>\n",
              "      <th>1</th>\n",
              "      <td>2021-06-01</td>\n",
              "      <td>101</td>\n",
              "      <td>101</td>\n",
              "      <td>107</td>\n",
              "      <td>108</td>\n",
              "      <td>109</td>\n",
              "      <td>99</td>\n",
              "      <td>97</td>\n",
              "      <td>102</td>\n",
              "      <td>86</td>\n",
              "      <td>96</td>\n",
              "      <td>92</td>\n",
              "      <td>99</td>\n",
              "    </tr>\n",
              "    <tr>\n",
              "      <th>2</th>\n",
              "      <td>2021-07-01</td>\n",
              "      <td>99</td>\n",
              "      <td>112</td>\n",
              "      <td>110</td>\n",
              "      <td>134</td>\n",
              "      <td>103</td>\n",
              "      <td>99</td>\n",
              "      <td>98</td>\n",
              "      <td>101</td>\n",
              "      <td>85</td>\n",
              "      <td>91</td>\n",
              "      <td>91</td>\n",
              "      <td>101</td>\n",
              "    </tr>\n",
              "    <tr>\n",
              "      <th>3</th>\n",
              "      <td>2021-08-01</td>\n",
              "      <td>105</td>\n",
              "      <td>115</td>\n",
              "      <td>115</td>\n",
              "      <td>124</td>\n",
              "      <td>118</td>\n",
              "      <td>98</td>\n",
              "      <td>98</td>\n",
              "      <td>100</td>\n",
              "      <td>97</td>\n",
              "      <td>87</td>\n",
              "      <td>96</td>\n",
              "      <td>104</td>\n",
              "    </tr>\n",
              "    <tr>\n",
              "      <th>4</th>\n",
              "      <td>2021-09-01</td>\n",
              "      <td>112</td>\n",
              "      <td>117</td>\n",
              "      <td>113</td>\n",
              "      <td>124</td>\n",
              "      <td>113</td>\n",
              "      <td>102</td>\n",
              "      <td>98</td>\n",
              "      <td>99</td>\n",
              "      <td>104</td>\n",
              "      <td>80</td>\n",
              "      <td>109</td>\n",
              "      <td>106</td>\n",
              "    </tr>\n",
              "    <tr>\n",
              "      <th>5</th>\n",
              "      <td>2021-10-01</td>\n",
              "      <td>121</td>\n",
              "      <td>127</td>\n",
              "      <td>123</td>\n",
              "      <td>146</td>\n",
              "      <td>124</td>\n",
              "      <td>104</td>\n",
              "      <td>112</td>\n",
              "      <td>116</td>\n",
              "      <td>103</td>\n",
              "      <td>81</td>\n",
              "      <td>107</td>\n",
              "      <td>115</td>\n",
              "    </tr>\n",
              "    <tr>\n",
              "      <th>6</th>\n",
              "      <td>2021-11-01</td>\n",
              "      <td>117</td>\n",
              "      <td>120</td>\n",
              "      <td>122</td>\n",
              "      <td>137</td>\n",
              "      <td>128</td>\n",
              "      <td>114</td>\n",
              "      <td>123</td>\n",
              "      <td>133</td>\n",
              "      <td>99</td>\n",
              "      <td>109</td>\n",
              "      <td>138</td>\n",
              "      <td>123</td>\n",
              "    </tr>\n",
              "    <tr>\n",
              "      <th>7</th>\n",
              "      <td>2021-12-01</td>\n",
              "      <td>110</td>\n",
              "      <td>108</td>\n",
              "      <td>136</td>\n",
              "      <td>129</td>\n",
              "      <td>115</td>\n",
              "      <td>119</td>\n",
              "      <td>124</td>\n",
              "      <td>137</td>\n",
              "      <td>102</td>\n",
              "      <td>107</td>\n",
              "      <td>140</td>\n",
              "      <td>122</td>\n",
              "    </tr>\n",
              "  </tbody>\n",
              "</table>\n",
              "</div>"
            ],
            "text/plain": [
              "        Crop  Rice  Wheat  ...  Sugarcane   Fibers  All Agriculture\n",
              "0 2021-05-01   100    100  ...         100     100              100\n",
              "1 2021-06-01   101    101  ...          96      92               99\n",
              "2 2021-07-01    99    112  ...          91      91              101\n",
              "3 2021-08-01   105    115  ...          87      96              104\n",
              "4 2021-09-01   112    117  ...          80     109              106\n",
              "5 2021-10-01   121    127  ...          81     107              115\n",
              "6 2021-11-01   117    120  ...         109     138              123\n",
              "7 2021-12-01   110    108  ...         107     140              122\n",
              "\n",
              "[8 rows x 13 columns]"
            ]
          },
          "metadata": {
            "tags": []
          },
          "execution_count": 43
        }
      ]
    },
    {
      "cell_type": "code",
      "metadata": {
        "colab": {
          "base_uri": "https://localhost:8080/"
        },
        "id": "Zhaj3cyF4Chz",
        "outputId": "bb439371-bb4c-4341-f906-370e61bf4bb3"
      },
      "source": [
        "series.info()"
      ],
      "execution_count": 44,
      "outputs": [
        {
          "output_type": "stream",
          "text": [
            "<class 'pandas.core.frame.DataFrame'>\n",
            "RangeIndex: 8 entries, 0 to 7\n",
            "Data columns (total 13 columns):\n",
            " #   Column               Non-Null Count  Dtype         \n",
            "---  ------               --------------  -----         \n",
            " 0   Crop                 8 non-null      datetime64[ns]\n",
            " 1   Rice                 8 non-null      int64         \n",
            " 2   Wheat                8 non-null      int64         \n",
            " 3   Coarse Cereals       8 non-null      int64         \n",
            " 4   Pulses               8 non-null      int64         \n",
            " 5   Vegetables           8 non-null      int64         \n",
            " 6   Fruits               8 non-null      int64         \n",
            " 7   Milk                 8 non-null      int64         \n",
            " 8   Eggs, Fish and Meat  8 non-null      int64         \n",
            " 9   Oilseeds             8 non-null      int64         \n",
            " 10  Sugarcane            8 non-null      int64         \n",
            " 11  Fibers               8 non-null      int64         \n",
            " 12  All Agriculture      8 non-null      int64         \n",
            "dtypes: datetime64[ns](1), int64(12)\n",
            "memory usage: 960.0 bytes\n"
          ],
          "name": "stdout"
        }
      ]
    },
    {
      "cell_type": "code",
      "metadata": {
        "colab": {
          "base_uri": "https://localhost:8080/"
        },
        "id": "-ycLnuBD4HIm",
        "outputId": "89c7587b-5ae9-4b4c-af14-6b1373806bbf"
      },
      "source": [
        "series.isnull().sum()"
      ],
      "execution_count": 45,
      "outputs": [
        {
          "output_type": "execute_result",
          "data": {
            "text/plain": [
              "Crop                   0\n",
              "Rice                   0\n",
              "Wheat                  0\n",
              "Coarse Cereals         0\n",
              "Pulses                 0\n",
              "Vegetables             0\n",
              "Fruits                 0\n",
              "Milk                   0\n",
              "Eggs, Fish and Meat    0\n",
              "Oilseeds               0\n",
              "Sugarcane              0\n",
              "Fibers                 0\n",
              "All Agriculture        0\n",
              "dtype: int64"
            ]
          },
          "metadata": {
            "tags": []
          },
          "execution_count": 45
        }
      ]
    },
    {
      "cell_type": "code",
      "metadata": {
        "id": "H6e6HRn24KHH"
      },
      "source": [
        "series['date_ordinal'] = series['Crop'].apply(lambda x: x.toordinal())"
      ],
      "execution_count": 46,
      "outputs": []
    },
    {
      "cell_type": "code",
      "metadata": {
        "colab": {
          "base_uri": "https://localhost:8080/",
          "height": 504
        },
        "id": "xPHOCBLT4KnY",
        "outputId": "5f2b785e-f340-4e79-c500-0014804f9729"
      },
      "source": [
        "series"
      ],
      "execution_count": 47,
      "outputs": [
        {
          "output_type": "execute_result",
          "data": {
            "text/html": [
              "<div>\n",
              "<style scoped>\n",
              "    .dataframe tbody tr th:only-of-type {\n",
              "        vertical-align: middle;\n",
              "    }\n",
              "\n",
              "    .dataframe tbody tr th {\n",
              "        vertical-align: top;\n",
              "    }\n",
              "\n",
              "    .dataframe thead th {\n",
              "        text-align: right;\n",
              "    }\n",
              "</style>\n",
              "<table border=\"1\" class=\"dataframe\">\n",
              "  <thead>\n",
              "    <tr style=\"text-align: right;\">\n",
              "      <th></th>\n",
              "      <th>Crop</th>\n",
              "      <th>Rice</th>\n",
              "      <th>Wheat</th>\n",
              "      <th>Coarse Cereals</th>\n",
              "      <th>Pulses</th>\n",
              "      <th>Vegetables</th>\n",
              "      <th>Fruits</th>\n",
              "      <th>Milk</th>\n",
              "      <th>Eggs, Fish and Meat</th>\n",
              "      <th>Oilseeds</th>\n",
              "      <th>Sugarcane</th>\n",
              "      <th>Fibers</th>\n",
              "      <th>All Agriculture</th>\n",
              "      <th>date_ordinal</th>\n",
              "    </tr>\n",
              "  </thead>\n",
              "  <tbody>\n",
              "    <tr>\n",
              "      <th>0</th>\n",
              "      <td>2021-05-01</td>\n",
              "      <td>100</td>\n",
              "      <td>100</td>\n",
              "      <td>100</td>\n",
              "      <td>100</td>\n",
              "      <td>100</td>\n",
              "      <td>100</td>\n",
              "      <td>100</td>\n",
              "      <td>100</td>\n",
              "      <td>100</td>\n",
              "      <td>100</td>\n",
              "      <td>100</td>\n",
              "      <td>100</td>\n",
              "      <td>737911</td>\n",
              "    </tr>\n",
              "    <tr>\n",
              "      <th>1</th>\n",
              "      <td>2021-06-01</td>\n",
              "      <td>101</td>\n",
              "      <td>101</td>\n",
              "      <td>107</td>\n",
              "      <td>108</td>\n",
              "      <td>109</td>\n",
              "      <td>99</td>\n",
              "      <td>97</td>\n",
              "      <td>102</td>\n",
              "      <td>86</td>\n",
              "      <td>96</td>\n",
              "      <td>92</td>\n",
              "      <td>99</td>\n",
              "      <td>737942</td>\n",
              "    </tr>\n",
              "    <tr>\n",
              "      <th>2</th>\n",
              "      <td>2021-07-01</td>\n",
              "      <td>99</td>\n",
              "      <td>112</td>\n",
              "      <td>110</td>\n",
              "      <td>134</td>\n",
              "      <td>103</td>\n",
              "      <td>99</td>\n",
              "      <td>98</td>\n",
              "      <td>101</td>\n",
              "      <td>85</td>\n",
              "      <td>91</td>\n",
              "      <td>91</td>\n",
              "      <td>101</td>\n",
              "      <td>737972</td>\n",
              "    </tr>\n",
              "    <tr>\n",
              "      <th>3</th>\n",
              "      <td>2021-08-01</td>\n",
              "      <td>105</td>\n",
              "      <td>115</td>\n",
              "      <td>115</td>\n",
              "      <td>124</td>\n",
              "      <td>118</td>\n",
              "      <td>98</td>\n",
              "      <td>98</td>\n",
              "      <td>100</td>\n",
              "      <td>97</td>\n",
              "      <td>87</td>\n",
              "      <td>96</td>\n",
              "      <td>104</td>\n",
              "      <td>738003</td>\n",
              "    </tr>\n",
              "    <tr>\n",
              "      <th>4</th>\n",
              "      <td>2021-09-01</td>\n",
              "      <td>112</td>\n",
              "      <td>117</td>\n",
              "      <td>113</td>\n",
              "      <td>124</td>\n",
              "      <td>113</td>\n",
              "      <td>102</td>\n",
              "      <td>98</td>\n",
              "      <td>99</td>\n",
              "      <td>104</td>\n",
              "      <td>80</td>\n",
              "      <td>109</td>\n",
              "      <td>106</td>\n",
              "      <td>738034</td>\n",
              "    </tr>\n",
              "    <tr>\n",
              "      <th>5</th>\n",
              "      <td>2021-10-01</td>\n",
              "      <td>121</td>\n",
              "      <td>127</td>\n",
              "      <td>123</td>\n",
              "      <td>146</td>\n",
              "      <td>124</td>\n",
              "      <td>104</td>\n",
              "      <td>112</td>\n",
              "      <td>116</td>\n",
              "      <td>103</td>\n",
              "      <td>81</td>\n",
              "      <td>107</td>\n",
              "      <td>115</td>\n",
              "      <td>738064</td>\n",
              "    </tr>\n",
              "    <tr>\n",
              "      <th>6</th>\n",
              "      <td>2021-11-01</td>\n",
              "      <td>117</td>\n",
              "      <td>120</td>\n",
              "      <td>122</td>\n",
              "      <td>137</td>\n",
              "      <td>128</td>\n",
              "      <td>114</td>\n",
              "      <td>123</td>\n",
              "      <td>133</td>\n",
              "      <td>99</td>\n",
              "      <td>109</td>\n",
              "      <td>138</td>\n",
              "      <td>123</td>\n",
              "      <td>738095</td>\n",
              "    </tr>\n",
              "    <tr>\n",
              "      <th>7</th>\n",
              "      <td>2021-12-01</td>\n",
              "      <td>110</td>\n",
              "      <td>108</td>\n",
              "      <td>136</td>\n",
              "      <td>129</td>\n",
              "      <td>115</td>\n",
              "      <td>119</td>\n",
              "      <td>124</td>\n",
              "      <td>137</td>\n",
              "      <td>102</td>\n",
              "      <td>107</td>\n",
              "      <td>140</td>\n",
              "      <td>122</td>\n",
              "      <td>738125</td>\n",
              "    </tr>\n",
              "  </tbody>\n",
              "</table>\n",
              "</div>"
            ],
            "text/plain": [
              "        Crop  Rice  Wheat  ...  Fibers  All Agriculture  date_ordinal\n",
              "0 2021-05-01   100    100  ...     100              100        737911\n",
              "1 2021-06-01   101    101  ...      92               99        737942\n",
              "2 2021-07-01    99    112  ...      91              101        737972\n",
              "3 2021-08-01   105    115  ...      96              104        738003\n",
              "4 2021-09-01   112    117  ...     109              106        738034\n",
              "5 2021-10-01   121    127  ...     107              115        738064\n",
              "6 2021-11-01   117    120  ...     138              123        738095\n",
              "7 2021-12-01   110    108  ...     140              122        738125\n",
              "\n",
              "[8 rows x 14 columns]"
            ]
          },
          "metadata": {
            "tags": []
          },
          "execution_count": 47
        }
      ]
    },
    {
      "cell_type": "code",
      "metadata": {
        "colab": {
          "base_uri": "https://localhost:8080/",
          "height": 348
        },
        "id": "Jj44tLLk4O-P",
        "outputId": "3b53441b-ea4d-447a-a868-d9285c6764ee"
      },
      "source": [
        "series = series.drop(['Crop'], axis=1)\r\n",
        "series"
      ],
      "execution_count": 48,
      "outputs": [
        {
          "output_type": "execute_result",
          "data": {
            "text/html": [
              "<div>\n",
              "<style scoped>\n",
              "    .dataframe tbody tr th:only-of-type {\n",
              "        vertical-align: middle;\n",
              "    }\n",
              "\n",
              "    .dataframe tbody tr th {\n",
              "        vertical-align: top;\n",
              "    }\n",
              "\n",
              "    .dataframe thead th {\n",
              "        text-align: right;\n",
              "    }\n",
              "</style>\n",
              "<table border=\"1\" class=\"dataframe\">\n",
              "  <thead>\n",
              "    <tr style=\"text-align: right;\">\n",
              "      <th></th>\n",
              "      <th>Rice</th>\n",
              "      <th>Wheat</th>\n",
              "      <th>Coarse Cereals</th>\n",
              "      <th>Pulses</th>\n",
              "      <th>Vegetables</th>\n",
              "      <th>Fruits</th>\n",
              "      <th>Milk</th>\n",
              "      <th>Eggs, Fish and Meat</th>\n",
              "      <th>Oilseeds</th>\n",
              "      <th>Sugarcane</th>\n",
              "      <th>Fibers</th>\n",
              "      <th>All Agriculture</th>\n",
              "      <th>date_ordinal</th>\n",
              "    </tr>\n",
              "  </thead>\n",
              "  <tbody>\n",
              "    <tr>\n",
              "      <th>0</th>\n",
              "      <td>100</td>\n",
              "      <td>100</td>\n",
              "      <td>100</td>\n",
              "      <td>100</td>\n",
              "      <td>100</td>\n",
              "      <td>100</td>\n",
              "      <td>100</td>\n",
              "      <td>100</td>\n",
              "      <td>100</td>\n",
              "      <td>100</td>\n",
              "      <td>100</td>\n",
              "      <td>100</td>\n",
              "      <td>737911</td>\n",
              "    </tr>\n",
              "    <tr>\n",
              "      <th>1</th>\n",
              "      <td>101</td>\n",
              "      <td>101</td>\n",
              "      <td>107</td>\n",
              "      <td>108</td>\n",
              "      <td>109</td>\n",
              "      <td>99</td>\n",
              "      <td>97</td>\n",
              "      <td>102</td>\n",
              "      <td>86</td>\n",
              "      <td>96</td>\n",
              "      <td>92</td>\n",
              "      <td>99</td>\n",
              "      <td>737942</td>\n",
              "    </tr>\n",
              "    <tr>\n",
              "      <th>2</th>\n",
              "      <td>99</td>\n",
              "      <td>112</td>\n",
              "      <td>110</td>\n",
              "      <td>134</td>\n",
              "      <td>103</td>\n",
              "      <td>99</td>\n",
              "      <td>98</td>\n",
              "      <td>101</td>\n",
              "      <td>85</td>\n",
              "      <td>91</td>\n",
              "      <td>91</td>\n",
              "      <td>101</td>\n",
              "      <td>737972</td>\n",
              "    </tr>\n",
              "    <tr>\n",
              "      <th>3</th>\n",
              "      <td>105</td>\n",
              "      <td>115</td>\n",
              "      <td>115</td>\n",
              "      <td>124</td>\n",
              "      <td>118</td>\n",
              "      <td>98</td>\n",
              "      <td>98</td>\n",
              "      <td>100</td>\n",
              "      <td>97</td>\n",
              "      <td>87</td>\n",
              "      <td>96</td>\n",
              "      <td>104</td>\n",
              "      <td>738003</td>\n",
              "    </tr>\n",
              "    <tr>\n",
              "      <th>4</th>\n",
              "      <td>112</td>\n",
              "      <td>117</td>\n",
              "      <td>113</td>\n",
              "      <td>124</td>\n",
              "      <td>113</td>\n",
              "      <td>102</td>\n",
              "      <td>98</td>\n",
              "      <td>99</td>\n",
              "      <td>104</td>\n",
              "      <td>80</td>\n",
              "      <td>109</td>\n",
              "      <td>106</td>\n",
              "      <td>738034</td>\n",
              "    </tr>\n",
              "    <tr>\n",
              "      <th>5</th>\n",
              "      <td>121</td>\n",
              "      <td>127</td>\n",
              "      <td>123</td>\n",
              "      <td>146</td>\n",
              "      <td>124</td>\n",
              "      <td>104</td>\n",
              "      <td>112</td>\n",
              "      <td>116</td>\n",
              "      <td>103</td>\n",
              "      <td>81</td>\n",
              "      <td>107</td>\n",
              "      <td>115</td>\n",
              "      <td>738064</td>\n",
              "    </tr>\n",
              "    <tr>\n",
              "      <th>6</th>\n",
              "      <td>117</td>\n",
              "      <td>120</td>\n",
              "      <td>122</td>\n",
              "      <td>137</td>\n",
              "      <td>128</td>\n",
              "      <td>114</td>\n",
              "      <td>123</td>\n",
              "      <td>133</td>\n",
              "      <td>99</td>\n",
              "      <td>109</td>\n",
              "      <td>138</td>\n",
              "      <td>123</td>\n",
              "      <td>738095</td>\n",
              "    </tr>\n",
              "    <tr>\n",
              "      <th>7</th>\n",
              "      <td>110</td>\n",
              "      <td>108</td>\n",
              "      <td>136</td>\n",
              "      <td>129</td>\n",
              "      <td>115</td>\n",
              "      <td>119</td>\n",
              "      <td>124</td>\n",
              "      <td>137</td>\n",
              "      <td>102</td>\n",
              "      <td>107</td>\n",
              "      <td>140</td>\n",
              "      <td>122</td>\n",
              "      <td>738125</td>\n",
              "    </tr>\n",
              "  </tbody>\n",
              "</table>\n",
              "</div>"
            ],
            "text/plain": [
              "   Rice  Wheat  Coarse Cereals  ...  Fibers  All Agriculture  date_ordinal\n",
              "0   100    100             100  ...     100              100        737911\n",
              "1   101    101             107  ...      92               99        737942\n",
              "2    99    112             110  ...      91              101        737972\n",
              "3   105    115             115  ...      96              104        738003\n",
              "4   112    117             113  ...     109              106        738034\n",
              "5   121    127             123  ...     107              115        738064\n",
              "6   117    120             122  ...     138              123        738095\n",
              "7   110    108             136  ...     140              122        738125\n",
              "\n",
              "[8 rows x 13 columns]"
            ]
          },
          "metadata": {
            "tags": []
          },
          "execution_count": 48
        }
      ]
    },
    {
      "cell_type": "code",
      "metadata": {
        "colab": {
          "base_uri": "https://localhost:8080/",
          "height": 516
        },
        "id": "DsVGlnE04VE3",
        "outputId": "d7c87a3d-067f-4a1a-fec0-7b68555a4818"
      },
      "source": [
        "# visualize the relationship between the features and the response using scatterplots\r\n",
        "fig, axs = plt.subplots(1, 1, sharey=True)\r\n",
        "series.plot(kind='scatter', x='date_ordinal', y='Fruits', ax=axs, figsize=(16, 8))"
      ],
      "execution_count": 49,
      "outputs": [
        {
          "output_type": "execute_result",
          "data": {
            "text/plain": [
              "<matplotlib.axes._subplots.AxesSubplot at 0x7fca94d7d908>"
            ]
          },
          "metadata": {
            "tags": []
          },
          "execution_count": 49
        },
        {
          "output_type": "display_data",
          "data": {
            "image/png": "[encoded data removed]",
            "text/plain": [
              "<Figure size 1152x576 with 1 Axes>"
            ]
          },
          "metadata": {
            "tags": [],
            "needs_background": "light"
          }
        }
      ]
    },
    {
      "cell_type": "code",
      "metadata": {
        "id": "WfywawPW4bm1"
      },
      "source": [
        "X = series.date_ordinal\r\n",
        "y = series.Fruits"
      ],
      "execution_count": 50,
      "outputs": []
    },
    {
      "cell_type": "code",
      "metadata": {
        "colab": {
          "base_uri": "https://localhost:8080/"
        },
        "id": "GMIt15v-4dux",
        "outputId": "f453fa88-4ec9-4a8f-8a4c-cd1864386562"
      },
      "source": [
        "X = (X - X.mean()) / (X.max() - X.min())\r\n",
        "X"
      ],
      "execution_count": 51,
      "outputs": [
        {
          "output_type": "execute_result",
          "data": {
            "text/plain": [
              "0   -0.501168\n",
              "1   -0.356308\n",
              "2   -0.216121\n",
              "3   -0.071262\n",
              "4    0.073598\n",
              "5    0.213785\n",
              "6    0.358645\n",
              "7    0.498832\n",
              "Name: date_ordinal, dtype: float64"
            ]
          },
          "metadata": {
            "tags": []
          },
          "execution_count": 51
        }
      ]
    },
    {
      "cell_type": "code",
      "metadata": {
        "colab": {
          "base_uri": "https://localhost:8080/"
        },
        "id": "SasSiHP24gNl",
        "outputId": "1fbdd006-9058-4813-c550-33fe730e8215"
      },
      "source": [
        "# split into train and test sets\r\n",
        "train_size = int(len(X) * 0.90)\r\n",
        "X_train, X_val = X[:train_size], X[train_size:]\r\n",
        "y_train, y_val = y[:train_size], y[train_size:]\r\n",
        "X_train.shape, y_train.shape, X_val.shape, y_val.shape"
      ],
      "execution_count": 52,
      "outputs": [
        {
          "output_type": "execute_result",
          "data": {
            "text/plain": [
              "((7,), (7,), (1,), (1,))"
            ]
          },
          "metadata": {
            "tags": []
          },
          "execution_count": 52
        }
      ]
    },
    {
      "cell_type": "code",
      "metadata": {
        "colab": {
          "base_uri": "https://localhost:8080/"
        },
        "id": "1CLiMwFH4iej",
        "outputId": "8eddfbf0-d7fd-4077-c881-bbebd1e1a1a1"
      },
      "source": [
        "X_train = X_train.values.reshape(-1,1)\r\n",
        "X_val = X_val.values.reshape(-1,1)\r\n",
        "X_train.shape, y_train.shape, X_val.shape, y_val.shape"
      ],
      "execution_count": 53,
      "outputs": [
        {
          "output_type": "execute_result",
          "data": {
            "text/plain": [
              "((7, 1), (7,), (1, 1), (1,))"
            ]
          },
          "metadata": {
            "tags": []
          },
          "execution_count": 53
        }
      ]
    },
    {
      "cell_type": "code",
      "metadata": {
        "colab": {
          "base_uri": "https://localhost:8080/"
        },
        "id": "SKLO2QU-4km5",
        "outputId": "d34cbf6e-9df3-4ab7-9ce8-32440ee83b58"
      },
      "source": [
        "from sklearn.neural_network import MLPRegressor\r\n",
        "\r\n",
        "model = MLPRegressor(hidden_layer_sizes=(800,), random_state=1, solver='lbfgs', max_iter=1000, verbose=True).fit(X_train, y_train)\r\n",
        "y_pred = model.predict(X_val)\r\n",
        "y_pred"
      ],
      "execution_count": 54,
      "outputs": [
        {
          "output_type": "execute_result",
          "data": {
            "text/plain": [
              "array([121.31540404])"
            ]
          },
          "metadata": {
            "tags": []
          },
          "execution_count": 54
        }
      ]
    },
    {
      "cell_type": "code",
      "metadata": {
        "colab": {
          "base_uri": "https://localhost:8080/",
          "height": 80
        },
        "id": "GOnLz-C54mjm",
        "outputId": "710594b8-b675-495e-a37c-95153d877f43"
      },
      "source": [
        "df_val = pd.DataFrame({'Actual': y_val, 'Predicted': y_pred})\r\n",
        "df_val"
      ],
      "execution_count": 55,
      "outputs": [
        {
          "output_type": "execute_result",
          "data": {
            "text/html": [
              "<div>\n",
              "<style scoped>\n",
              "    .dataframe tbody tr th:only-of-type {\n",
              "        vertical-align: middle;\n",
              "    }\n",
              "\n",
              "    .dataframe tbody tr th {\n",
              "        vertical-align: top;\n",
              "    }\n",
              "\n",
              "    .dataframe thead th {\n",
              "        text-align: right;\n",
              "    }\n",
              "</style>\n",
              "<table border=\"1\" class=\"dataframe\">\n",
              "  <thead>\n",
              "    <tr style=\"text-align: right;\">\n",
              "      <th></th>\n",
              "      <th>Actual</th>\n",
              "      <th>Predicted</th>\n",
              "    </tr>\n",
              "  </thead>\n",
              "  <tbody>\n",
              "    <tr>\n",
              "      <th>7</th>\n",
              "      <td>119</td>\n",
              "      <td>121.315404</td>\n",
              "    </tr>\n",
              "  </tbody>\n",
              "</table>\n",
              "</div>"
            ],
            "text/plain": [
              "   Actual   Predicted\n",
              "7     119  121.315404"
            ]
          },
          "metadata": {
            "tags": []
          },
          "execution_count": 55
        }
      ]
    },
    {
      "cell_type": "code",
      "metadata": {
        "colab": {
          "base_uri": "https://localhost:8080/",
          "height": 265
        },
        "id": "_SD-CCP04nzm",
        "outputId": "5f891e46-f711-4f8d-b534-36d47d02fa49"
      },
      "source": [
        "# plot predictions and expected results\r\n",
        "plt.plot(y_train)\r\n",
        "plt.plot([None for i in y_train] + [x for x in y_val])\r\n",
        "plt.plot([None for i in y_train] + [x for x in y_pred])\r\n",
        "plt.show()"
      ],
      "execution_count": 56,
      "outputs": [
        {
          "output_type": "display_data",
          "data": {
            "image/png": "[encoded data removed]",
            "text/plain": [
              "<Figure size 432x288 with 1 Axes>"
            ]
          },
          "metadata": {
            "tags": [],
            "needs_background": "light"
          }
        }
      ]
    },
    {
      "cell_type": "code",
      "metadata": {
        "colab": {
          "base_uri": "https://localhost:8080/",
          "height": 80
        },
        "id": "RYQpwEwN4rh9",
        "outputId": "11681284-e9dc-4dc0-eaa1-cb7ecda705ee"
      },
      "source": [
        "final_result = pd.DataFrame({'Fruits': series.index[train_size:], 'Sales': y_pred})\r\n",
        "final_result"
      ],
      "execution_count": 57,
      "outputs": [
        {
          "output_type": "execute_result",
          "data": {
            "text/html": [
              "<div>\n",
              "<style scoped>\n",
              "    .dataframe tbody tr th:only-of-type {\n",
              "        vertical-align: middle;\n",
              "    }\n",
              "\n",
              "    .dataframe tbody tr th {\n",
              "        vertical-align: top;\n",
              "    }\n",
              "\n",
              "    .dataframe thead th {\n",
              "        text-align: right;\n",
              "    }\n",
              "</style>\n",
              "<table border=\"1\" class=\"dataframe\">\n",
              "  <thead>\n",
              "    <tr style=\"text-align: right;\">\n",
              "      <th></th>\n",
              "      <th>Fruits</th>\n",
              "      <th>Sales</th>\n",
              "    </tr>\n",
              "  </thead>\n",
              "  <tbody>\n",
              "    <tr>\n",
              "      <th>0</th>\n",
              "      <td>7</td>\n",
              "      <td>121.315404</td>\n",
              "    </tr>\n",
              "  </tbody>\n",
              "</table>\n",
              "</div>"
            ],
            "text/plain": [
              "   Fruits       Sales\n",
              "0       7  121.315404"
            ]
          },
          "metadata": {
            "tags": []
          },
          "execution_count": 57
        }
      ]
    },
    {
      "cell_type": "code",
      "metadata": {
        "colab": {
          "base_uri": "https://localhost:8080/"
        },
        "id": "LvSnMgqw4vWa",
        "outputId": "e77ed1ca-7500-45ea-e6c6-115b56f64fbc"
      },
      "source": [
        "final_result.to_csv('/content/submission.csv', index=False)\r\n",
        "print(\"Your submission was successfully saved!\")"
      ],
      "execution_count": 58,
      "outputs": [
        {
          "output_type": "stream",
          "text": [
            "Your submission was successfully saved!\n"
          ],
          "name": "stdout"
        }
      ]
    },
    {
      "cell_type": "code",
      "metadata": {
        "colab": {
          "base_uri": "https://localhost:8080/",
          "height": 80
        },
        "id": "Kcjh6jAQ40Op",
        "outputId": "8787de51-083d-4a30-988f-08fc3c063e4e"
      },
      "source": [
        "#upload submission\r\n",
        "submission = pd.read_csv(\"submission.csv\")\r\n",
        "submission"
      ],
      "execution_count": 59,
      "outputs": [
        {
          "output_type": "execute_result",
          "data": {
            "text/html": [
              "<div>\n",
              "<style scoped>\n",
              "    .dataframe tbody tr th:only-of-type {\n",
              "        vertical-align: middle;\n",
              "    }\n",
              "\n",
              "    .dataframe tbody tr th {\n",
              "        vertical-align: top;\n",
              "    }\n",
              "\n",
              "    .dataframe thead th {\n",
              "        text-align: right;\n",
              "    }\n",
              "</style>\n",
              "<table border=\"1\" class=\"dataframe\">\n",
              "  <thead>\n",
              "    <tr style=\"text-align: right;\">\n",
              "      <th></th>\n",
              "      <th>Fruits</th>\n",
              "      <th>Sales</th>\n",
              "    </tr>\n",
              "  </thead>\n",
              "  <tbody>\n",
              "    <tr>\n",
              "      <th>0</th>\n",
              "      <td>7</td>\n",
              "      <td>121.315404</td>\n",
              "    </tr>\n",
              "  </tbody>\n",
              "</table>\n",
              "</div>"
            ],
            "text/plain": [
              "   Fruits       Sales\n",
              "0       7  121.315404"
            ]
          },
          "metadata": {
            "tags": []
          },
          "execution_count": 59
        }
      ]
    }
  ]
}