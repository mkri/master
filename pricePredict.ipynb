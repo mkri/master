{
  "nbformat": 4,
  "nbformat_minor": 0,
  "metadata": {
    "colab": {
      "name": "pricePredict.ipynb",
      "provenance": [],
      "authorship_tag": "ABX9TyOWCDZOZU1i36gyGdSPktkn",
      "include_colab_link": true
    },
    "kernelspec": {
      "name": "python3",
      "display_name": "Python 3"
    }
  },
  "cells": [
    {
      "cell_type": "markdown",
      "metadata": {
        "id": "view-in-github",
        "colab_type": "text"
      },
      "source": [
        "<a href=\"https://colab.research.google.com/github/mkri/master/blob/master/pricePredict.ipynb\" target=\"_parent\"><img src=\"https://colab.research.google.com/assets/colab-badge.svg\" alt=\"Open In Colab\"/></a>"
      ]
    },
    {
      "cell_type": "code",
      "metadata": {
        "id": "7JD_zRff3wbb"
      },
      "source": [
        "import pandas as pd\r\n",
        "from pandas import read_csv\r\n",
        "from pandas import datetime\r\n",
        "from pandas import DataFrame\r\n",
        "import matplotlib.pyplot as plt"
      ],
      "execution_count": null,
      "outputs": []
    },
    {
      "cell_type": "code",
      "metadata": {
        "id": "moDupeVf3z9a"
      },
      "source": [
        "def parser(x):\r\n",
        "  return datetime.strptime('202'+x, '%Y-%m')"
      ],
      "execution_count": null,
      "outputs": []
    },
    {
      "cell_type": "code",
      "metadata": {
        "id": "VXSSYa5932AP"
      },
      "source": [
        "series = read_csv('/content/datafileN.csv', header=0, parse_dates=[0],  squeeze=True, date_parser=parser)"
      ],
      "execution_count": null,
      "outputs": []
    },
    {
      "cell_type": "code",
      "metadata": {
        "id": "tdL_ZWXr4B7M"
      },
      "source": [
        "series"
      ],
      "execution_count": null,
      "outputs": []
    },
    {
      "cell_type": "code",
      "metadata": {
        "id": "Zhaj3cyF4Chz"
      },
      "source": [
        "series.info()"
      ],
      "execution_count": null,
      "outputs": []
    },
    {
      "cell_type": "code",
      "metadata": {
        "id": "-ycLnuBD4HIm"
      },
      "source": [
        "series.isnull().sum()"
      ],
      "execution_count": null,
      "outputs": []
    },
    {
      "cell_type": "code",
      "metadata": {
        "id": "H6e6HRn24KHH"
      },
      "source": [
        "series['date_ordinal'] = series['Crop'].apply(lambda x: x.toordinal())"
      ],
      "execution_count": null,
      "outputs": []
    },
    {
      "cell_type": "code",
      "metadata": {
        "id": "xPHOCBLT4KnY"
      },
      "source": [
        "series"
      ],
      "execution_count": null,
      "outputs": []
    },
    {
      "cell_type": "code",
      "metadata": {
        "id": "Jj44tLLk4O-P"
      },
      "source": [
        "series = series.drop(['Month'], axis=1)\r\n",
        "series"
      ],
      "execution_count": null,
      "outputs": []
    },
    {
      "cell_type": "code",
      "metadata": {
        "id": "rEkv8xrH4SYG"
      },
      "source": [
        "series = series.drop(['Crop'], axis=1)\r\n",
        "series"
      ],
      "execution_count": null,
      "outputs": []
    },
    {
      "cell_type": "code",
      "metadata": {
        "id": "DsVGlnE04VE3"
      },
      "source": [
        "# visualize the relationship between the features and the response using scatterplots\r\n",
        "fig, axs = plt.subplots(1, 1, sharey=True)\r\n",
        "series.plot(kind='scatter', x='date_ordinal', y='Fruits', ax=axs, figsize=(16, 8))"
      ],
      "execution_count": null,
      "outputs": []
    },
    {
      "cell_type": "code",
      "metadata": {
        "id": "WfywawPW4bm1"
      },
      "source": [
        "X = series.date_ordinal\r\n",
        "y = series.Fruits"
      ],
      "execution_count": null,
      "outputs": []
    },
    {
      "cell_type": "code",
      "metadata": {
        "id": "GMIt15v-4dux"
      },
      "source": [
        "X = (X - X.mean()) / (X.max() - X.min())\r\n",
        "X"
      ],
      "execution_count": null,
      "outputs": []
    },
    {
      "cell_type": "code",
      "metadata": {
        "id": "SasSiHP24gNl"
      },
      "source": [
        "# split into train and test sets\r\n",
        "train_size = int(len(X) * 0.90)\r\n",
        "X_train, X_val = X[:train_size], X[train_size:]\r\n",
        "y_train, y_val = y[:train_size], y[train_size:]\r\n",
        "X_train.shape, y_train.shape, X_val.shape, y_val.shape"
      ],
      "execution_count": null,
      "outputs": []
    },
    {
      "cell_type": "code",
      "metadata": {
        "id": "1CLiMwFH4iej"
      },
      "source": [
        "X_train = X_train.values.reshape(-1,1)\r\n",
        "X_val = X_val.values.reshape(-1,1)\r\n",
        "X_train.shape, y_train.shape, X_val.shape, y_val.shape"
      ],
      "execution_count": null,
      "outputs": []
    },
    {
      "cell_type": "code",
      "metadata": {
        "id": "SKLO2QU-4km5"
      },
      "source": [
        "from sklearn.neural_network import MLPRegressor\r\n",
        "\r\n",
        "model = MLPRegressor(hidden_layer_sizes=(800,), random_state=1, solver='lbfgs', max_iter=1000, verbose=True).fit(X_train, y_train)\r\n",
        "y_pred = model.predict(X_val)\r\n",
        "y_pred"
      ],
      "execution_count": null,
      "outputs": []
    },
    {
      "cell_type": "code",
      "metadata": {
        "id": "GOnLz-C54mjm"
      },
      "source": [
        "df_val = pd.DataFrame({'Actual': y_val, 'Predicted': y_pred})\r\n",
        "df_val"
      ],
      "execution_count": null,
      "outputs": []
    },
    {
      "cell_type": "code",
      "metadata": {
        "id": "_SD-CCP04nzm"
      },
      "source": [
        "# plot predictions and expected results\r\n",
        "plt.plot(y_train)\r\n",
        "plt.plot([None for i in y_train] + [x for x in y_val])\r\n",
        "plt.plot([None for i in y_train] + [x for x in y_pred])\r\n",
        "plt.show()"
      ],
      "execution_count": null,
      "outputs": []
    },
    {
      "cell_type": "code",
      "metadata": {
        "id": "RYQpwEwN4rh9"
      },
      "source": [
        "final_result = pd.DataFrame({'Fruits': series.index[train_size:], 'Sales': y_pred})\r\n",
        "final_result"
      ],
      "execution_count": null,
      "outputs": []
    },
    {
      "cell_type": "code",
      "metadata": {
        "id": "LvSnMgqw4vWa"
      },
      "source": [
        "final_result.to_csv('/content/submission.csv', index=False)\r\n",
        "print(\"Your submission was successfully saved!\")"
      ],
      "execution_count": null,
      "outputs": []
    },
    {
      "cell_type": "code",
      "metadata": {
        "id": "Kcjh6jAQ40Op"
      },
      "source": [
        "#upload submission\r\n",
        "submission = pd.read_csv(\"submission.csv\")\r\n",
        "submission"
      ],
      "execution_count": null,
      "outputs": []
    }
  ]
}